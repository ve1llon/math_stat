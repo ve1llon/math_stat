{
 "cells": [
  {
   "cell_type": "code",
   "execution_count": 1,
   "metadata": {},
   "outputs": [],
   "source": [
    "import scipy.stats as sps\n",
    "import numpy as np\n",
    "import matplotlib.pyplot as plt\n",
    "\n",
    "p = 5\n",
    "\n",
    "n = 25\n",
    "n1 = 2\n",
    "n2 = 6\n",
    "n3 = 11\n",
    "n4 = 4\n",
    "n5 = 2\n",
    "\n",
    "alpha = 0.05"
   ]
  },
  {
   "cell_type": "markdown",
   "metadata": {},
   "source": [
    "## Исходная выборку"
   ]
  },
  {
   "cell_type": "code",
   "execution_count": 2,
   "metadata": {},
   "outputs": [],
   "source": [
    "Psi = np.array([[1, 0, 0, 0, 0] for i in range(n1)] + \n",
    "               [[0, 1, 0, 0, 0] for i in range(n2)] +\n",
    "               [[0, 0, 1, 0, 0] for i in range(n3)] +\n",
    "               [[0, 0, 0, 1, 0] for i in range(n4)] +\n",
    "               [[0, 0, 0, 0, 1] for i in range(n5)]) \n",
    "\n",
    "Y = np.atleast_2d([83, 85, 84, 85, 85, 86, 86, 87, 86, 87, 87, 87, 88, 88, 88, 88, 88, 89, 90, 89, 90, 90, 91, 90, 92]).T\n"
   ]
  },
  {
   "cell_type": "markdown",
   "metadata": {},
   "source": [
    "## а) Определить влияение возраста на содержание иммуноглобулина в крови"
   ]
  },
  {
   "cell_type": "code",
   "execution_count": 3,
   "metadata": {},
   "outputs": [
    {
     "name": "stdout",
     "output_type": "stream",
     "text": [
      "Уравнение линейной регрессии: \n",
      "y =  84.0 * x_1 +  85.5 * x_2 +  87.818 * x_3 +  90.0 * x_4 +  91.0 * x_5\n"
     ]
    }
   ],
   "source": [
    "# Построим уравнение линейной регрессии\n",
    "\n",
    "F = np.dot(Psi.T, Psi)\n",
    "F_rever = np.linalg.inv(F)\n",
    "\n",
    "betta_sample = np.dot(np.dot(F_rever, Psi.T), Y)\n",
    "print(\"Уравнение линейной регрессии: \")\n",
    "print(\"y = \", np.round(betta_sample[0, 0], 3), \"* x_1 + \",  np.round(betta_sample[1, 0], 3), \"* x_2 + \", np.round(betta_sample[2, 0], 3), \"* x_3 + \", np.round(betta_sample[3, 0], 3), \"* x_4 + \", np.round(betta_sample[4, 0], 3), \"* x_5\")\n"
   ]
  },
  {
   "cell_type": "code",
   "execution_count": 4,
   "metadata": {},
   "outputs": [
    {
     "name": "stdout",
     "output_type": "stream",
     "text": [
      "RSS =  23.136363636363637\n",
      "TSS =  122.16\n",
      "R_2 =  0.8106060606060606\n"
     ]
    }
   ],
   "source": [
    "# Определим коэффициент детерминанции\n",
    "\n",
    "e = Y - np.dot(Psi, betta_sample)\n",
    "\n",
    "RSS = np.dot( e.T, e )\n",
    "print(\"RSS = \", RSS[0, 0])\n",
    "\n",
    "y_mean = np.mean(Y)\n",
    "\n",
    "TSS = np.sum((Y - y_mean)**2)\n",
    "print(\"TSS = \", TSS)\n",
    "\n",
    "R_2 = (TSS - RSS) / TSS\n",
    "print(\"R_2 = \", R_2[0,0])\n"
   ]
  },
  {
   "cell_type": "markdown",
   "metadata": {},
   "source": [
    "### Таким образом, действительно, возраст влияет на содержание иммуноглобина в крови"
   ]
  },
  {
   "cell_type": "markdown",
   "metadata": {},
   "source": [
    "## б) Провести попарное сравнение средних в рамках регрессионной модели, с учётом множественности проверяемых гипотез "
   ]
  },
  {
   "cell_type": "markdown",
   "metadata": {},
   "source": [
    "#### Проверим гипотезы: # \n",
    "H0: bettai = bettaj \\\n",
    "H1: bettai != bettaj \n",
    "\n",
    "delta = (~bettai - ~bettaj) * sqrt(n-p) / sqrt(RSS * (Fii_-1 + Fjj_-1)) ~ t(n-p)"
   ]
  },
  {
   "cell_type": "code",
   "execution_count": 5,
   "metadata": {},
   "outputs": [
    {
     "name": "stdout",
     "output_type": "stream",
     "text": [
      "p-values: \n",
      "1 5 2.4125702768884594e-06\n",
      "2 4 2.5534724907849693e-06\n",
      "1 4 2.782111500732043e-06\n",
      "2 5 4.085183105129175e-06\n",
      "1 3 0.0001662014487755492\n",
      "2 3 0.00039504010033408754\n",
      "3 5 0.0010025629060046448\n",
      "3 4 0.0023933387043622023\n",
      "1 2 0.10310040890082384\n",
      "4 5 0.29579135227474707\n"
     ]
    }
   ],
   "source": [
    "def all_pairs(numbers):\n",
    "    pairs = np.empty((0, 2))\n",
    "    for i in range(len(numbers)):\n",
    "        for j in range(i + 1, len(numbers)):\n",
    "            pairs = np.append(pairs, [[numbers[i], numbers[j]]], axis=0)\n",
    "    return pairs\n",
    "\n",
    "pairs = all_pairs(np.arange(p))\n",
    "\n",
    "p_values = np.empty((0,3))\n",
    "\n",
    "for pair in pairs:\n",
    "    i = int(pair[0])\n",
    "    j = int(pair[1])\n",
    "    delta_pair = (betta_sample[i] - betta_sample[j]) * np.sqrt(n-p) / np.sqrt(RSS * (F_rever[i, i] + F_rever[j, j]))\n",
    "    p_value_pair = 2 * (1 - sps.t.cdf(abs(delta_pair), (n - p)))\n",
    "    \n",
    "    p_values = np.append(p_values,  [np.append(pair, p_value_pair[0 ,0])], axis=0)\n",
    "\n",
    "\n",
    "p_values = p_values[p_values[:,2].argsort()]\n",
    "print(\"p-values: \")\n",
    "for pv in p_values:\n",
    "    print(int(pv[0])+1, int(pv[1])+1, pv[2])"
   ]
  },
  {
   "cell_type": "markdown",
   "metadata": {},
   "source": [
    "#### Метод Холма-Бонферрони #"
   ]
  },
  {
   "cell_type": "code",
   "execution_count": 6,
   "metadata": {},
   "outputs": [
    {
     "name": "stdout",
     "output_type": "stream",
     "text": [
      "Отвергаем H0 для  1.0  и  5.0  bettas, те считаем, что нельзя их считать равными\n",
      "Отвергаем H0 для  2.0  и  4.0  bettas, те считаем, что нельзя их считать равными\n",
      "Отвергаем H0 для  1.0  и  4.0  bettas, те считаем, что нельзя их считать равными\n",
      "Отвергаем H0 для  2.0  и  5.0  bettas, те считаем, что нельзя их считать равными\n",
      "Отвергаем H0 для  1.0  и  3.0  bettas, те считаем, что нельзя их считать равными\n",
      "Отвергаем H0 для  2.0  и  3.0  bettas, те считаем, что нельзя их считать равными\n",
      "Отвергаем H0 для  3.0  и  5.0  bettas, те считаем, что нельзя их считать равными\n",
      "Отвергаем H0 для  3.0  и  4.0  bettas, те считаем, что нельзя их считать равными\n",
      "Нет оснований отвергнуть H0 для  1.0  и  2.0  bettas, те считаем, что можно их считать равными\n",
      "Нет оснований отвергнуть H0 для  4.0  и  5.0  bettas, те считаем, что можно их считать равными\n"
     ]
    }
   ],
   "source": [
    "\n",
    "for s in range(len(p_values)-1):\n",
    "    if p_values[s, 2] < alpha / (len(p_values) - s):\n",
    "        print(\"Отвергаем H0 для \", p_values[s, 0]+1, \" и \", p_values[s, 1]+1, \" bettas, те считаем, что нельзя их считать равными\")\n",
    "    else:\n",
    "        for c in range(s, len(p_values)):\n",
    "            print(\"Нет оснований отвергнуть H0 для \", p_values[c, 0]+1, \" и \", p_values[c, 1]+1, \" bettas, те считаем, что можно их считать равными\")\n",
    "        break"
   ]
  },
  {
   "cell_type": "code",
   "execution_count": null,
   "metadata": {},
   "outputs": [],
   "source": []
  },
  {
   "cell_type": "code",
   "execution_count": null,
   "metadata": {},
   "outputs": [],
   "source": []
  }
 ],
 "metadata": {
  "kernelspec": {
   "display_name": "Python 3",
   "language": "python",
   "name": "python3"
  },
  "language_info": {
   "codemirror_mode": {
    "name": "ipython",
    "version": 3
   },
   "file_extension": ".py",
   "mimetype": "text/x-python",
   "name": "python",
   "nbconvert_exporter": "python",
   "pygments_lexer": "ipython3",
   "version": "3.10.6"
  }
 },
 "nbformat": 4,
 "nbformat_minor": 2
}
