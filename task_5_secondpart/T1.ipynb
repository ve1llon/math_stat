{
 "cells": [
  {
   "cell_type": "code",
   "execution_count": 23,
   "metadata": {},
   "outputs": [],
   "source": [
    "\n",
    "import scipy.stats as sps\n",
    "import numpy as np\n",
    "import matplotlib.pyplot as plt\n",
    "\n",
    "n = 50\n",
    "m = 5\n",
    "sigma = 1.5\n",
    "alpha = 0.05"
   ]
  },
  {
   "cell_type": "markdown",
   "metadata": {},
   "source": [
    "#### Генерируем выборку #"
   ]
  },
  {
   "cell_type": "code",
   "execution_count": 24,
   "metadata": {},
   "outputs": [
    {
     "name": "stdout",
     "output_type": "stream",
     "text": [
      "[[-0.08828782 -0.71614252 -0.80581577  0.72045398  0.10137327]\n",
      " [ 0.51971044 -0.18930035 -0.26480552 -0.16103448  0.25055968]\n",
      " [-0.06956291 -0.71465503  0.7536287  -0.03634553  0.67618317]\n",
      " [-0.44891758 -0.42988923 -0.89975664  0.71162987  0.14619249]\n",
      " [-0.67448058 -0.19702505  0.07499105  0.85230732  0.23386151]\n",
      " [-0.49080623 -0.25861507  0.46538881 -0.29414957 -0.18466068]\n",
      " [-0.55997901  0.88912459 -0.2061202   0.86259879  0.5278336 ]\n",
      " [ 0.77227464 -0.65955048  0.88383496  0.45033478  0.76060412]\n",
      " [ 0.97225319 -0.63760894 -0.42888959  0.37880209  0.33357838]\n",
      " [-0.63381997 -0.60932595 -0.28886857  0.02049676 -0.72626929]\n",
      " [-0.58152664 -0.65789635  0.14256019 -0.05712007  0.03997702]\n",
      " [ 0.26484423 -0.47588053 -0.92411299  0.09704378 -0.83450513]\n",
      " [ 0.39280475 -0.10181846 -0.64289796 -0.22805382 -0.65970932]\n",
      " [-0.19166728 -0.06205857  0.21786989  0.2423141  -0.42483643]\n",
      " [-0.77687672 -0.80824529 -0.91713522 -0.18845424 -0.04711867]\n",
      " [ 0.9043596  -0.13436733 -0.22351676 -0.46416695 -0.59153665]\n",
      " [ 0.00392304  0.74084407 -0.97262414  0.85185898 -0.72428829]\n",
      " [-0.82245339  0.09555026 -0.09467123  0.73202235 -0.35690448]\n",
      " [-0.91882842  0.94522874  0.80447412  0.58278291 -0.92549512]\n",
      " [-0.14862783  0.82213456 -0.16727427 -0.55028609 -0.14059559]\n",
      " [ 0.36788605 -0.23570455  0.98116211 -0.13288408  0.71532398]\n",
      " [-0.41024616  0.74281953  0.85284129  0.21819292 -0.304633  ]\n",
      " [-0.07093613  0.44738172 -0.56577104  0.63743626  0.34432322]\n",
      " [-0.29233673  0.77353028  0.36523409 -0.95484943 -0.01064017]\n",
      " [ 0.71880706 -0.34838164 -0.86673388  0.67426866 -0.9499868 ]\n",
      " [-0.83606353  0.06568597 -0.90553127 -0.95440504 -0.21049881]\n",
      " [ 0.28735871 -0.63649734 -0.04164905  0.35685735  0.78575923]\n",
      " [-0.36665825 -0.68378024  0.51202048 -0.10451725  0.30546355]\n",
      " [-0.11705249 -0.38692212 -0.67604342  0.57142825  0.61713311]\n",
      " [ 0.50590558  0.91116365 -0.31641897 -0.18294428 -0.5795376 ]\n",
      " [ 0.10906065 -0.53940557  0.77162536 -0.17963508 -0.89540774]\n",
      " [-0.62608271  0.42842959  0.97566662  0.0462141   0.59054586]\n",
      " [-0.26750403  0.09806629 -0.39331978  0.94586641 -0.32391532]\n",
      " [-0.59792285 -0.24398401 -0.60014935 -0.6592227  -0.48819541]\n",
      " [-0.37481956  0.98156253 -0.14490659  0.40003893  0.92625572]\n",
      " [ 0.29872409  0.09518415  0.38069242 -0.82855868 -0.82256848]\n",
      " [-0.81098675 -0.07552319  0.76642414  0.98649002 -0.69484254]\n",
      " [-0.76504435  0.28901571 -0.85241781 -0.67677682  0.21901253]\n",
      " [-0.37257997 -0.44565644 -0.11964722  0.35341342 -0.39375152]\n",
      " [-0.65340917 -0.32309449  0.86310959  0.63932346 -0.53905305]\n",
      " [-0.26109002 -0.55509615 -0.61473945 -0.85479289 -0.67880673]\n",
      " [-0.16594441 -0.96516365  0.73857772  0.71047372  0.54707667]\n",
      " [-0.38065995  0.92821893 -0.18779776 -0.38155071 -0.98392736]\n",
      " [ 0.04964512  0.33261733  0.80090142  0.48044389 -0.64419504]\n",
      " [-0.14523267 -0.57751753  0.41143967 -0.67345121 -0.35769038]\n",
      " [ 0.1809464   0.01039052 -0.51047149  0.97386616 -0.74641899]\n",
      " [ 0.82866651  0.35049494  0.23686062 -0.42004417  0.0658113 ]\n",
      " [-0.9103432  -0.51304106 -0.51816669 -0.09813859 -0.37647757]\n",
      " [ 0.47980687 -0.09876297  0.15277037  0.6154507  -0.55715677]\n",
      " [ 0.82176047 -0.79943521 -0.47600612 -0.94864466 -0.67932971]]\n"
     ]
    }
   ],
   "source": [
    "x_n = np.array([sps.uniform(loc = -1, scale = 2).rvs(size = m) for i in range (n)])\n",
    "\n",
    "print(x_n)"
   ]
  },
  {
   "cell_type": "code",
   "execution_count": 25,
   "metadata": {},
   "outputs": [
    {
     "name": "stdout",
     "output_type": "stream",
     "text": [
      "[ 3.69110774  1.94354872  4.22962218  4.37822213  1.1100232   0.56152901\n",
      " -0.4233116   6.64873728  5.36156737 -0.48894177  0.47662066  4.15687742\n",
      "  4.5506774   2.22865775  1.06921927  5.95544901  2.68445266  0.41783713\n",
      "  0.4488504   0.78586677  3.84747377  0.30768948 -0.35915983 -0.62795799\n",
      "  7.08254405  0.03622781  2.75447736  3.04702458  1.68473531  0.67810032\n",
      "  4.51852159 -2.31092121  1.67874871 -0.74063878 -3.54776629  2.71801148\n",
      "  2.50075857 -1.94587669  0.59986358  1.62481579  1.87876919  6.11147693\n",
      "  0.48401761  4.52821946  4.04972869  3.7196998   4.13942827 -1.57879538\n",
      "  5.84058405  4.31844628]\n"
     ]
    }
   ],
   "source": [
    "y_n = np.array([])\n",
    "for i in range(n):\n",
    "    M = 2 + 3 * x_n[i][0] - 2 * x_n[i][1] + x_n[i][2] + x_n[i][3] - x_n[i][4]\n",
    "    y_i = sps.norm(loc = M, scale = sigma).rvs(size = 1)\n",
    "    y_n = np.append(y_n, y_i)\n",
    "\n",
    "print(y_n)"
   ]
  },
  {
   "cell_type": "markdown",
   "metadata": {},
   "source": [
    "## а) Проверить переменные ksi_k на мультиколлинеарность"
   ]
  },
  {
   "cell_type": "markdown",
   "metadata": {},
   "source": [
    "#### Для ksi_i получаем матрицу факторов Psi с базисом {1, .., ksi_i-1, ksi_i+1, ..} и вероятностную модель по выборке Y #"
   ]
  },
  {
   "cell_type": "code",
   "execution_count": 26,
   "metadata": {},
   "outputs": [
    {
     "name": "stdout",
     "output_type": "stream",
     "text": [
      "1 [[0.03251273]] False\n",
      "2 [[0.04133106]] False\n",
      "3 [[0.0335783]] False\n",
      "4 [[0.02928515]] False\n",
      "5 [[0.06007499]] False\n"
     ]
    }
   ],
   "source": [
    "for i in range(m):\n",
    "    Psi_tran_ksi = x_n.copy().T\n",
    "    Y_ksi = np.atleast_2d(Psi_tran_ksi[i].copy()).T\n",
    "    Psi_tran_ksi[i] = 1\n",
    "    \n",
    "    F_ksi = np.dot(Psi_tran_ksi, Psi_tran_ksi.T)\n",
    "    F_rever_ksi = np.linalg.inv(F_ksi)\n",
    "\n",
    "    b_sample = np.dot(np.dot(F_rever_ksi, Psi_tran_ksi), Y_ksi)\n",
    "    RSS_ksi = np.dot( (Y_ksi - np.dot(Psi_tran_ksi.T, b_sample)).T, (Y_ksi - np.dot(Psi_tran_ksi.T, b_sample)))\n",
    "\n",
    "    y_mean_ksi = np.mean(Y_ksi)\n",
    "    TSS_ksi = np.sum((Y_ksi - y_mean_ksi)**2)\n",
    "\n",
    "    R_2_ksi = (TSS_ksi - RSS_ksi) / TSS_ksi\n",
    "    \n",
    "    print(i+1, R_2_ksi, R_2_ksi[0, 0] > 0.7)"
   ]
  },
  {
   "cell_type": "markdown",
   "metadata": {
    "slideshow": {
     "slide_type": "notes"
    }
   },
   "source": [
    "#### Получается, связи между переменными ksi_k нет #"
   ]
  },
  {
   "cell_type": "markdown",
   "metadata": {},
   "source": [
    "## b) Определить уравнение линейной регрессии и проверить значимость коэффициентов"
   ]
  },
  {
   "cell_type": "markdown",
   "metadata": {},
   "source": [
    "#### Уравнение линейной регрессии с базисом {1, x_1, x_2, x_3, x_4, x_5}"
   ]
  },
  {
   "cell_type": "code",
   "execution_count": 27,
   "metadata": {},
   "outputs": [
    {
     "name": "stdout",
     "output_type": "stream",
     "text": [
      "[[ 2.10805563]\n",
      " [ 3.16381158]\n",
      " [-1.9016281 ]\n",
      " [ 0.6972324 ]\n",
      " [ 1.1044166 ]\n",
      " [-1.12754623]]\n",
      "Уравнение линейной регрессии: \n",
      "y =  2.108 +  3.164 * x_1 +  -1.902 * x_2 +  0.697 * x_3 +  1.104 * x_4 +  -1.128 * x_5\n"
     ]
    }
   ],
   "source": [
    "Psi_tran = x_n.copy().T\n",
    "Y = np.atleast_2d(y_n).T\n",
    "Psi_tran = np.concatenate([[np.ones(n)], Psi_tran])\n",
    "\n",
    "F = np.dot(Psi_tran, Psi_tran.T)\n",
    "F_rever = np.linalg.inv(F)\n",
    "\n",
    "betta_sample = np.dot(np.dot(F_rever, Psi_tran), Y)\n",
    "print(betta_sample)\n",
    "print(\"Уравнение линейной регрессии: \")\n",
    "print(\"y = \",  np.round(betta_sample[0, 0], 3), \"+ \", np.round(betta_sample[1, 0], 3), \"* x_1 + \",  np.round(betta_sample[2, 0], 3), \"* x_2 + \", np.round(betta_sample[3, 0], 3), \"* x_3 + \", np.round(betta_sample[4, 0], 3), \"* x_4 + \", np.round(betta_sample[5, 0], 3), \"* x_5\")"
   ]
  },
  {
   "cell_type": "code",
   "execution_count": 28,
   "metadata": {},
   "outputs": [
    {
     "name": "stdout",
     "output_type": "stream",
     "text": [
      "[[ 0.38100396]\n",
      " [-1.52375392]\n",
      " [ 1.25975644]\n",
      " [ 2.87921012]\n",
      " [ 0.03132978]\n",
      " [-0.69333184]\n",
      " [ 0.71728718]\n",
      " [ 0.5871512 ]\n",
      " [-0.77820379]\n",
      " [-2.39055244]\n",
      " [-1.03390573]\n",
      " [-0.09784161]\n",
      " [ 0.96250365]\n",
      " [-0.28955544]\n",
      " [ 0.67653314]\n",
      " [ 0.73214521]\n",
      " [ 0.89346449]\n",
      " [-0.05130597]\n",
      " [ 0.79718922]\n",
      " [ 1.27728187]\n",
      " [ 0.39649585]\n",
      " [-0.26895037]\n",
      " [-1.3133142 ]\n",
      " [ 0.44775286]\n",
      " [ 0.82631338]\n",
      " [ 2.1463093 ]\n",
      " [-0.95220856]\n",
      " [ 0.90156845]\n",
      " [-0.25265965]\n",
      " [-1.52864201]\n",
      " [-0.30955403]\n",
      " [-1.68889362]\n",
      " [-0.53211375]\n",
      " [-0.82490884]\n",
      " [-1.89977651]\n",
      " [-0.43198716]\n",
      " [ 0.40755639]\n",
      " [ 0.50484787]\n",
      " [-1.92775881]\n",
      " [-0.94605654]\n",
      " [ 0.14844451]\n",
      " [ 2.01029077]\n",
      " [ 0.78833158]\n",
      " [ 1.08022614]\n",
      " [ 1.35652747]\n",
      " [-0.50233586]\n",
      " [ 0.44910111]\n",
      " [-1.73713732]\n",
      " [ 0.612249  ]\n",
      " [-1.29612297]]\n"
     ]
    }
   ],
   "source": [
    "#Найдём вектор ошибок по выборке\n",
    "\n",
    "e = Y - np.dot(Psi_tran.T, betta_sample)\n",
    "print(e)\n",
    "\n",
    "indice_min_e = np.argmin(e)\n",
    "indice_max_e = np.argmax(e)"
   ]
  },
  {
   "cell_type": "code",
   "execution_count": 29,
   "metadata": {},
   "outputs": [
    {
     "name": "stdout",
     "output_type": "stream",
     "text": [
      "RSS =  63.67797775848717\n"
     ]
    }
   ],
   "source": [
    "#Остаточная сумма квадратов\n",
    "\n",
    "RSS = np.dot( e.T, e )\n",
    "print(\"RSS = \", RSS[0, 0])"
   ]
  },
  {
   "cell_type": "markdown",
   "metadata": {},
   "source": [
    "#### Проверим значимость коэффициентов i=0,..,m #\n",
    "H0: betta_i = 0  \\\n",
    "H1: betta_i != 0 \n",
    "\n",
    "delta = betta_sample_i / sqrt( RSS * F-1_ii) ~ t(n-p) \n",
    "\n",
    "p-value = 2 * P( delta >= |delta_sample| ) = 2 * (1 - F(|delta_sample|))"
   ]
  },
  {
   "cell_type": "code",
   "execution_count": 30,
   "metadata": {},
   "outputs": [
    {
     "name": "stdout",
     "output_type": "stream",
     "text": [
      "Для  1  коэффициента\n",
      "delta_sample =  11.05073184848111\n",
      "p-value =  2.7977620220553945e-14\n",
      "Отвергаем H0 => Считаем, что betta 0  значителен\n",
      "\n",
      "Для  2  коэффициента\n",
      "delta_sample =  9.637171884995976\n",
      "p-value =  2.062572335148616e-12\n",
      "Отвергаем H0 => Считаем, что betta 1  значителен\n",
      "\n",
      "Для  3  коэффициента\n",
      "delta_sample =  -6.065164132390711\n",
      "p-value =  2.706735329205401e-07\n",
      "Отвергаем H0 => Считаем, что betta 2  значителен\n",
      "\n",
      "Для  4  коэффициента\n",
      "delta_sample =  2.45631138866825\n",
      "p-value =  0.018053874990510144\n",
      "Отвергаем H0 => Считаем, что betta 3  значителен\n",
      "\n",
      "Для  5  коэффициента\n",
      "delta_sample =  3.687327267432325\n",
      "p-value =  0.0006193033312569263\n",
      "Отвергаем H0 => Считаем, что betta 4  значителен\n",
      "\n",
      "Для  6  коэффициента\n",
      "delta_sample =  -3.4811888160208575\n",
      "p-value =  0.0011395958940827455\n",
      "Отвергаем H0 => Считаем, что betta 5  значителен\n",
      "\n",
      "Caмый незначительный коэф:  4 c p-value =  0.018053874990510144\n"
     ]
    }
   ],
   "source": [
    "betta_unimportant_index, betta_unimportant_pvalue = -1, -1 # самый незначительный коэф\n",
    "p = m + 1\n",
    "\n",
    "for i in range( p ):\n",
    "    \n",
    "    delta_sample_i = betta_sample[i] / np.sqrt(RSS * F_rever[i, i]) * np.sqrt(n - p)\n",
    "    p_value_i = 2 * (1 - sps.t.cdf(np.abs(delta_sample_i), n - p))\n",
    "    \n",
    "    if p_value_i > betta_unimportant_pvalue:\n",
    "        betta_unimportant_pvalue = p_value_i\n",
    "        betta_unimportant_index = i\n",
    "    \n",
    "    print(\"Для \", i + 1,\" коэффициента\")\n",
    "    print(\"delta_sample = \", delta_sample_i[0, 0])\n",
    "    print(\"p-value = \", p_value_i[0, 0])\n",
    "    if p_value_i > alpha:\n",
    "        print(\"Нет оснований отвергнуть H0 => Считаем, что betta\", i, \" не значителен\")\n",
    "    else:\n",
    "        print(\"Отвергаем H0 => Считаем, что betta\", i, \" значителен\")\n",
    "    print(\"\")\n",
    "    \n",
    "print(\"Caмый незначительный коэф: \", betta_unimportant_index+1, \"c p-value = \", betta_unimportant_pvalue[0, 0])"
   ]
  },
  {
   "cell_type": "markdown",
   "metadata": {},
   "source": [
    "#### Получается, все коэффициенты регрессии значимы #"
   ]
  },
  {
   "cell_type": "markdown",
   "metadata": {},
   "source": [
    "## с) Определить коэффициент детерминанции и проверить его значимость"
   ]
  },
  {
   "cell_type": "code",
   "execution_count": 31,
   "metadata": {},
   "outputs": [
    {
     "name": "stdout",
     "output_type": "stream",
     "text": [
      "y_mean =  2.1364971846877023\n",
      "TSS =  301.2771371034379\n",
      "R_2 =  0.7886398603933078\n"
     ]
    }
   ],
   "source": [
    "y_mean = np.mean(Y)\n",
    "print(\"y_mean = \", y_mean)\n",
    "\n",
    "#полная сумма квадратов\n",
    "TSS = np.sum((Y - y_mean)**2)\n",
    "print(\"TSS = \", TSS)\n",
    "\n",
    "#Коэффициент детерминации\n",
    "R_2 = (TSS - RSS) / TSS\n",
    "print(\"R_2 = \", R_2[0,0])"
   ]
  },
  {
   "cell_type": "markdown",
   "metadata": {},
   "source": [
    "#### Получается, регрессия объясняет разброс на более 50% #"
   ]
  },
  {
   "cell_type": "markdown",
   "metadata": {},
   "source": [
    "H0: регрессия не значима  \\\n",
    "H1: регрессия значима\n",
    "\n",
    "delta = R^/(1 - R^2) * (n - p)/(p - 1) ~ F(p - 1, n - p)        \n",
    "где p = m+1\n",
    "\n",
    "p-value = P( delta >= delta_sample ) = 1 - F(delta_sample)"
   ]
  },
  {
   "cell_type": "code",
   "execution_count": 32,
   "metadata": {},
   "outputs": [
    {
     "name": "stdout",
     "output_type": "stream",
     "text": [
      "delta_sample =  32.83509740472072\n",
      "p_value =  8.493206138382448e-14\n",
      "Отвергаем H0 => Регрессия значима\n"
     ]
    }
   ],
   "source": [
    "delta_sample = R_2 / (1 - R_2) * (n - p) / (p - 1)\n",
    "print(\"delta_sample = \", delta_sample[0, 0])\n",
    "\n",
    "p_value = 1 - sps.f.cdf(delta_sample, (p - 1), (n - p))\n",
    "print(\"p_value = \", p_value[0, 0])\n",
    "\n",
    "if p_value > alpha:\n",
    "    print(\"Нет оснований отвергнуть H0 => Считаем, что регрессия не значительна\")\n",
    "else:\n",
    "    print(\"Отвергаем H0 => Регрессия значима\")"
   ]
  },
  {
   "cell_type": "markdown",
   "metadata": {},
   "source": [
    "#### Получается, что регрессия значима #"
   ]
  },
  {
   "cell_type": "markdown",
   "metadata": {},
   "source": [
    "## d) Найти значение в точке x_k = 0 и постороить 95% доверительный интервал"
   ]
  },
  {
   "cell_type": "markdown",
   "metadata": {},
   "source": [
    "Найдём доверительный интервал из: \n",
    "\n",
    "( y0 - eta_0 ) / (kappa * sqrt(RSS)) * sqrt(n - p) ~ t(n - p)\n",
    "\n",
    "P( -t_gamma <  ( y0_sample - eta_0 )*sqrt((n - p) / RSS)/kappa  < t_gamma ) \\\n",
    "P( y0_sample - t_gamma * kappa * sqrt(RSS / (n - p)) < eta_0 < y0_sample + t_gamma * kappa * sqrt(RSS / (n - p)))\n"
   ]
  },
  {
   "cell_type": "code",
   "execution_count": 33,
   "metadata": {},
   "outputs": [
    {
     "name": "stdout",
     "output_type": "stream",
     "text": [
      "y0 =  2.108055634749822\n",
      "Psi_x0 =  [[1 0 0 0 0 0]]\n",
      "\n",
      "-0.347  < eta_0 <  4.563\n"
     ]
    }
   ],
   "source": [
    "y0 = betta_sample[0, 0] + betta_sample[1, 0] * 0 + betta_sample[2, 0] * 0 + betta_sample[3, 0] * 0 + betta_sample[4, 0] * 0 + betta_sample[5, 0] * 0\n",
    "print(\"y0 = \", y0)\n",
    "\n",
    "Psi_x0 = np.atleast_2d([1, 0, 0, 0, 0, 0])\n",
    "print(\"Psi_x0 = \", Psi_x0)\n",
    "kappa = np.sqrt(1 + np.dot(np.dot(Psi_x0, F_rever), Psi_x0.T))\n",
    "\n",
    "t2 = sps.t.ppf(0.975, n - p) \n",
    "\n",
    "eta_1 = y0 - t2 * kappa * np.sqrt(RSS) / np.sqrt(n - p)\n",
    "eta_2 = y0 + t2 * kappa * np.sqrt(RSS) / np.sqrt(n - p)\n",
    "\n",
    "print(\"\")\n",
    "print(np.round(eta_1[0, 0], 3), \" < eta_0 < \", np.round(eta_2[0, 0], 3))"
   ]
  },
  {
   "cell_type": "markdown",
   "metadata": {},
   "source": [
    "## e) Проверить предположение о независимости ошибок измерения"
   ]
  },
  {
   "cell_type": "code",
   "execution_count": 34,
   "metadata": {},
   "outputs": [],
   "source": [
    "#Подсчёт количества инверсий\n",
    "\n",
    "def merge(arr, buffer, left, mid, right): \n",
    "    i = left      \n",
    "    j = mid + 1 \n",
    "    k = left      \n",
    "    inv_count = 0\n",
    "    while i <= mid and j <= right: \n",
    "        if arr[i] <= arr[j]: \n",
    "            buffer[k] = arr[i] \n",
    "            k += 1\n",
    "            i += 1\n",
    "        else: \n",
    "            buffer[k] = arr[j] \n",
    "            inv_count += (mid-i + 1) \n",
    "            k += 1\n",
    "            j += 1\n",
    "    while i <= mid: \n",
    "        buffer[k] = arr[i] \n",
    "        k += 1\n",
    "        i += 1\n",
    "    while j <= right: \n",
    "        buffer[k] = arr[j] \n",
    "        k += 1\n",
    "        j += 1\n",
    "    for q in range(left, right + 1): \n",
    "        arr[q] = buffer[q] \n",
    "    return inv_count\n",
    "  \n",
    "def mergecount(arr, buffer, left, right): \n",
    "    inv_count = 0 \n",
    "    if left < right: \n",
    "        mid = (left + right)//2\n",
    "        inv_count += mergecount(arr, buffer, left, mid) \n",
    "        inv_count += mergecount(arr, buffer, mid + 1, right) \n",
    "        inv_count += merge(arr, buffer, left, mid, right)\n",
    "    return inv_count  \n",
    "\n",
    "def inversion_count(arr, n): \n",
    "    buffer = [0]*n \n",
    "    return mergecount(arr, buffer, 0, n - 1) "
   ]
  },
  {
   "cell_type": "markdown",
   "metadata": {},
   "source": [
    "#### Проверяем по критерию инверсии #\n",
    "\n",
    "H0: полученные данные - независимые \\\n",
    "H1: полученные данные - зависимы\n",
    "\n",
    "delta = ( I - (n*(n-1)/4) ) / np.sqrt( n**3 / 36 ) ~> N(0, 1)\n",
    "\n",
    "n = 50 >> 1\n",
    "\n",
    "p-value = 2*(1 - F(|delta_sample|))"
   ]
  },
  {
   "cell_type": "code",
   "execution_count": 35,
   "metadata": {},
   "outputs": [
    {
     "name": "stdout",
     "output_type": "stream",
     "text": [
      "I =  652\n",
      "delta_sample =  0.670337228564847\n",
      "p_value =  0.5026428399433329\n",
      "Нет оснований отвергнуть H0 => Считаем, что ошибки e_i независимы\n"
     ]
    }
   ],
   "source": [
    "\n",
    "I = inversion_count(list(e), n)\n",
    "print(\"I = \", I)\n",
    "\n",
    "delta_sample = ( I - (n*(n-1)/4) ) / np.sqrt( n**3 / 36 )\n",
    "print(\"delta_sample = \", delta_sample)\n",
    "\n",
    "p_value = 2 * (1 - sps.norm.cdf(np.abs(delta_sample), 0, 1))\n",
    "print(\"p_value = \", p_value)\n",
    "\n",
    "if p_value > alpha:\n",
    "    print(\"Нет оснований отвергнуть H0 => Считаем, что ошибки e_i независимы\")\n",
    "else:\n",
    "    print(\"Отвергаем H0 => Считаем, что ошибки e_i зависимы\")"
   ]
  },
  {
   "cell_type": "markdown",
   "metadata": {},
   "source": [
    "## f) Проверить предположение о нормальности распределения ошибок измерения"
   ]
  },
  {
   "cell_type": "markdown",
   "metadata": {},
   "source": [
    "H0: epsilon ~ N(0, sigma^2) \\\n",
    "H1: epsilon не подчиняется нормальному закону распределения\n",
    "\n",
    "Проверяем по критерию Колмогорова для сложной гипотезы ( с помощью параметрического bootstrap )\n"
   ]
  },
  {
   "cell_type": "code",
   "execution_count": 36,
   "metadata": {},
   "outputs": [
    {
     "name": "stdout",
     "output_type": "stream",
     "text": [
      "~delta = 0.7372861682434974\n",
      "l =  27908\n",
      "p-value =  0.55816\n",
      "Нет оснований отвергнуть H0 => Считаем, что ошибки e_i распределены по нормальному закону\n"
     ]
    }
   ],
   "source": [
    "my_teta1 = 0\n",
    "my_teta2 = np.sqrt(RSS/(n-p))\n",
    "\n",
    "\n",
    "def emp_func(sample_cur, n_cur):\n",
    "    xy_pairs = np.vstack(( np.sort(sample_cur), np.arange(0, n_cur) / n_cur )).T\n",
    "    # убираем повторки\n",
    "    uniq_elem = xy_pairs[0]\n",
    "    for pair_cur in xy_pairs:\n",
    "        if pair_cur[0] == uniq_elem[0]:\n",
    "            pair_cur[1] = uniq_elem[1]\n",
    "        else:\n",
    "            uniq_elem = pair_cur\n",
    "    return xy_pairs\n",
    "\n",
    "def norm_func(sample_cur, teta1_cur, teta2_cur):\n",
    "    x1 = np.sort(sample_cur)\n",
    "    y1 = sps.norm.cdf(x = x1, loc = teta1_cur, scale = teta2_cur)\n",
    "    return np.vstack((x1, y1)).T\n",
    "\n",
    "\n",
    "# Получаем из исходной выборки\n",
    "\n",
    "my_empf = emp_func(e[:,0], n) # ~Fn(x)\n",
    "my_normf = norm_func(e[:, 0], my_teta1, my_teta2) # F(x, vector my_teta)\n",
    "\n",
    "my_delta = np.sqrt(n) * max(np.max(np.abs(my_empf[:, 1] - my_normf[:, 1])), np.max(np.abs(my_empf[1:, 1] - my_normf[:-1, 1])), np.abs(1 - my_normf[-1, 1])) # ~delta\n",
    "print(\"~delta =\", my_delta)\n",
    "\n",
    "\n",
    "# Воспользуемся параметрическим bootstapом\n",
    "\n",
    "N = 50000\n",
    "e_boot = np.array([sps.norm.rvs(size = n, loc = my_teta1, scale = my_teta2) for i in range (N)])\n",
    "\n",
    "teta1_boot = np.array([0]*N)\n",
    "\n",
    "RSS_boot = np.array([np.dot(e_boot[i].T, e_boot[i]) for i in range(N)])\n",
    "teta2_boot = np.sqrt( RSS_boot / (n-p) )\n",
    "empf_boot = np.apply_along_axis(func1d = emp_func, axis = 1, arr = e_boot, n_cur = n)\n",
    "\n",
    "delta_boot = np.array([])\n",
    "for i in range(N):\n",
    "    empf_boot_cur = empf_boot[i] # ~F*n(x)\n",
    "    normf_boot_cur = norm_func(e_boot[i], teta1_boot[i], teta2_boot[i]) # F(x, vector teta*)\n",
    "    delta_boot_cur = np.sqrt(n) * max(np.max(np.abs(empf_boot_cur[:, 1] - normf_boot_cur[:, 1])), \n",
    "                                  np.max(np.abs(empf_boot_cur[1:, 1] - normf_boot_cur[:-1, 1])), \n",
    "                                  np.abs(1 - normf_boot_cur[-1, 1])) # *delta\n",
    "    delta_boot = np.append(delta_boot, delta_boot_cur)\n",
    "\n",
    "delta_boot = np.sort(delta_boot) # вариационный ряд\n",
    "\n",
    "\n",
    "l = len([delta for delta in delta_boot if delta >= my_delta])\n",
    "print(\"l = \", l)\n",
    "p_value = l / N\n",
    "print(\"p-value = \", p_value)\n",
    "\n",
    "if p_value > alpha:\n",
    "    print(\"Нет оснований отвергнуть H0 => Считаем, что ошибки e_i распределены по нормальному закону\")\n",
    "else:\n",
    "    print(\"Отвергаем H0 => Считаем, что ошибки e_i не могут быть распределены по нормальному закону\")\n",
    "    \n",
    "    "
   ]
  },
  {
   "cell_type": "markdown",
   "metadata": {},
   "source": [
    "## g) Исследовать регрессию на выбросы"
   ]
  },
  {
   "cell_type": "markdown",
   "metadata": {},
   "source": [
    "#### Для этого построим boxplot #"
   ]
  },
  {
   "cell_type": "code",
   "execution_count": 37,
   "metadata": {},
   "outputs": [
    {
     "name": "stdout",
     "output_type": "stream",
     "text": [
      "med =  0.08988714332455483\n",
      "e_min =  -2.390552441768026 , e_max =  2.879210115857118\n",
      "q1 =  -0.8249088375617719 , q2 =  0.7883315802602948\n",
      "epsilon =  1.6132404178220667\n",
      "2.4198606267331\n",
      "False\n",
      "False\n"
     ]
    },
    {
     "data": {
      "image/png": "[encoded data removed]",
      "text/plain": [
       "<Figure size 640x480 with 1 Axes>"
      ]
     },
     "metadata": {},
     "output_type": "display_data"
    }
   ],
   "source": [
    "e_arr = np.sort(e[:, 0]) # те это теперь не столбец, а отсорт массив чисел\n",
    "\n",
    "med = np.median(e_arr)\n",
    "print(\"med = \", med)\n",
    "\n",
    "emin = e_arr[0]\n",
    "emax = e_arr[-1]\n",
    "print(\"e_min = \", emin, \", e_max = \", emax )\n",
    "\n",
    "if (n % 2 == 0):\n",
    "    q1 = np.median(e_arr[0 : n//2])\n",
    "    q2 = np.median(e_arr[n//2 : n])\n",
    "else:\n",
    "    q1 = np.median(e_arr[0 : n//2])\n",
    "    q2 = np.median(e_arr[n//2 + 1 : n])\n",
    "print(\"q1 = \", q1, \", q2 = \", q2 )\n",
    "\n",
    "epsilon_from_quartiles = q2 - q1\n",
    "print(\"epsilon = \", epsilon_from_quartiles)\n",
    "\n",
    "#boxplot\n",
    "bp = plt.boxplot(x = e_arr, whis = epsilon_from_quartiles * 1.5, vert = False, patch_artist = True) \n",
    "\n",
    "#e_max и e_min\n",
    "plt.scatter(emin, 1)\n",
    "plt.scatter(emax, 1)\n",
    "plt.grid()\n",
    "print(1.5*epsilon_from_quartiles)\n",
    "print(emax > q2 + 1.5* epsilon_from_quartiles)\n",
    "print(emin < q1 - 1.5* epsilon_from_quartiles)\n",
    "\n"
   ]
  },
  {
   "cell_type": "markdown",
   "metadata": {},
   "source": [
    "#### Получается, выбросов нет #\n",
    "#### Но попробуем убрать минимальный и максимальный элемент и посмотрим, что будет с объяснятельной способностью #"
   ]
  },
  {
   "cell_type": "code",
   "execution_count": 38,
   "metadata": {},
   "outputs": [
    {
     "name": "stdout",
     "output_type": "stream",
     "text": [
      "R_2_new =  0.8283311262475628\n",
      "R_2 =  0.7886398603933078\n",
      "Короткая регрессия объясняет лучше\n"
     ]
    }
   ],
   "source": [
    "# убирали мин и макс элементы по выборке\n",
    "e_new = np.delete(e, [indice_min_e], axis = 0)\n",
    "e_new = np.delete(e_new, [indice_max_e], axis = 0)\n",
    "\n",
    "Y_new = np.delete(Y, [indice_min_e], axis = 0)\n",
    "Y_new = np.delete(Y_new, [indice_max_e], axis = 0)\n",
    "\n",
    "RSS_new = np.dot(e_new.T, e_new)\n",
    "\n",
    "y_mean_new = np.mean(Y_new)\n",
    "TSS_new = np.sum((Y_new - y_mean_new)**2)\n",
    "\n",
    "R_2_new = (TSS_new - RSS_new) / TSS_new\n",
    "print(\"R_2_new = \", R_2_new[0,0])\n",
    "print(\"R_2 = \", R_2[0,0])\n",
    " \n",
    "if (R_2_new[0,0] > R_2[0,0]):\n",
    "    print(\"Короткая регрессия объясняет лучше\")\n",
    "if (R_2_new[0,0] < R_2[0,0]):\n",
    "    print(\"Длинная регрессия объясняет лучше\")\n",
    "if (R_2_new[0,0] == R_2[0,0]):\n",
    "    print(\"Регрессии объясняют примерно одинаково\")"
   ]
  },
  {
   "cell_type": "markdown",
   "metadata": {},
   "source": [
    "## h) Провести кросс-проверку регрессии "
   ]
  },
  {
   "cell_type": "markdown",
   "metadata": {},
   "source": [
    "#### Для этого (x0i, x1i, x2i, x3i, x4i, x5i, yi) выбрасиваем из выборки; # \n",
    "#### По остальным n-1 элементам находим коэфициенты лин регрессии, считаем yi с x0i, x1i, x2i, x3i, x4i, x5i и сравниваем с Y[i] #"
   ]
  },
  {
   "cell_type": "code",
   "execution_count": 39,
   "metadata": {},
   "outputs": [
    {
     "name": "stdout",
     "output_type": "stream",
     "text": [
      "CVSS =  82.89766400767132\n",
      "R_cv2 =  0.7248458186881603\n"
     ]
    }
   ],
   "source": [
    "CVSS = 0\n",
    "for i in range(n):\n",
    "    Psi_tran_yi = np.delete(Psi_tran, [i], axis=1)\n",
    "    Y_yi = np.delete(Y, [i], axis = 0)\n",
    "\n",
    "    F_yi = np.dot(Psi_tran_yi, Psi_tran_yi.T)\n",
    "    F_rever_yi = np.linalg.inv(F_yi)\n",
    "\n",
    "    betta_sample_yi = np.dot(np.dot(F_rever_yi, Psi_tran_yi), Y_yi)\n",
    "    \n",
    "    yi = np.dot(Psi_tran.T[i], betta_sample_yi)\n",
    "    CVSS_i = (yi - Y[i])**2\n",
    "    CVSS += CVSS_i\n",
    "    \n",
    "print(\"CVSS = \", *CVSS)\n",
    "\n",
    "R_cv2 = (TSS - CVSS) / TSS\n",
    "print(\"R_cv2 = \", *R_cv2)"
   ]
  },
  {
   "cell_type": "markdown",
   "metadata": {},
   "source": [
    "#### Получается, регрессия предсказывает на более 50% #"
   ]
  },
  {
   "cell_type": "markdown",
   "metadata": {},
   "source": [
    "## i) Проверить адекватность регрессии, сделав 5 повторных измерений в одной точке "
   ]
  },
  {
   "cell_type": "code",
   "execution_count": 40,
   "metadata": {},
   "outputs": [
    {
     "name": "stdout",
     "output_type": "stream",
     "text": [
      "Рассматриваемая точка:  16\n",
      "y_add_measure :  [0.72921034 1.67102199 1.63827168 0.81547542 2.09608487]\n",
      "s_2 =  0.35147237424589933\n"
     ]
    }
   ],
   "source": [
    "i = n//3\n",
    "print(\"Рассматриваемая точка: \" , i)\n",
    "\n",
    "l = 5\n",
    "\n",
    "sigma = 1.5\n",
    "M = 2 + 3 * x_n[i][0] - 2 * x_n[i][1] + x_n[i][2] + x_n[i][3] - x_n[i][4]\n",
    "\n",
    "y_add_measure = np.array([])\n",
    "for j in range(l):\n",
    "    yi = sps.norm(loc = M, scale = sigma).rvs(size = 1)\n",
    "    y_add_measure = np.append(y_add_measure, *yi)\n",
    "    \n",
    "yi_mean = np.mean(y_add_measure)\n",
    "s_2 = 0\n",
    "for j in range(l):\n",
    "    s_2 += 1/(l-1) * (y_add_measure[j] - yi_mean)**2\n",
    "    \n",
    "print(\"y_add_measure : \", y_add_measure)\n",
    "print(\"s_2 = \", s_2)"
   ]
  },
  {
   "cell_type": "markdown",
   "metadata": {},
   "source": [
    "#### Проверим следующее: #\n",
    "H0: sigma1^2 = sigma2^2 \\\n",
    "H1: sigma2^2 > sigma1^2 \\\n",
    "\n",
    "delta = RSS / [(n-p) * s^2] ~ F(n-p, l-1)\n",
    "\n",
    "p-value = 1 - F(~delta)"
   ]
  },
  {
   "cell_type": "code",
   "execution_count": 41,
   "metadata": {},
   "outputs": [
    {
     "name": "stdout",
     "output_type": "stream",
     "text": [
      "delta_sample =  4.1176117193945565\n",
      "p_value =  0.08755072019085841\n",
      "Нет оснований отвергнуть H0 => Считаем, что регрессия адекватная \n"
     ]
    }
   ],
   "source": [
    "delta_sample = RSS / ((n - p) * s_2)\n",
    "print(\"delta_sample = \", delta_sample[0, 0])\n",
    "\n",
    "p_value = 1 - sps.f.cdf(delta_sample, (n - p), (l - 1))\n",
    "print(\"p_value = \", p_value[0, 0])\n",
    "\n",
    "if p_value > alpha:\n",
    "    print(\"Нет оснований отвергнуть H0 => Считаем, что регрессия адекватная \")\n",
    "else:\n",
    "    print(\"Отвергаем H0 => Регрессия неадекватна\")"
   ]
  },
  {
   "cell_type": "markdown",
   "metadata": {},
   "source": [
    "## j) Удалить переменную, соотв-ую наименее значимому коэф-у и повторить пункты b, c. Сравнить линейные регрессии. "
   ]
  },
  {
   "cell_type": "markdown",
   "metadata": {},
   "source": [
    "#### Для рассмотрим упрощение модели #\n",
    "H0: betta_del = 0\n",
    "H1: betta_del != 0\n",
    "\n",
    "Для длинной и короткой регрессии: \\\n",
    "delta = (RSS0 - RSS1) / RSS1 * (n - p1) / (p1 - p0) ~ F( p1 - p0; n - p1)"
   ]
  },
  {
   "cell_type": "code",
   "execution_count": 42,
   "metadata": {},
   "outputs": [
    {
     "name": "stdout",
     "output_type": "stream",
     "text": [
      "[[ 2.09532204]\n",
      " [ 3.13777852]\n",
      " [-1.85157193]\n",
      " [ 1.12258998]\n",
      " [-0.99608529]]\n",
      "RSS0 =  72.4097707291602 RSS =  63.67797775848717\n",
      "delta_sample =  6.033465638101337\n",
      "p_value =  0.018053874990510255\n",
      "Отвергаем H0 => Отбросить коэффициент нельзя\n"
     ]
    }
   ],
   "source": [
    "Psi_del = np.delete(Psi_tran.T, betta_unimportant_index, axis= 1)\n",
    "p0 = p - 1\n",
    "\n",
    "F_del = np.dot(Psi_del.T, Psi_del)\n",
    "F_rever_del = np.linalg.inv(F_del)\n",
    "\n",
    "betta_sample_del = np.dot(np.dot(F_rever_del, Psi_del.T), Y)\n",
    "print(betta_sample_del)\n",
    "\n",
    "RSS0 = np.dot( (Y - np.dot(Psi_del, betta_sample_del )).T, (Y - np.dot(Psi_del, betta_sample_del )))\n",
    "print(\"RSS0 = \", RSS0[0, 0], \"RSS = \", RSS[0, 0])\n",
    "\n",
    "delta_sample = (RSS0 - RSS) / RSS * (n - p) / (p - p0)\n",
    "print(\"delta_sample = \", delta_sample[0, 0])\n",
    "\n",
    "p_value = 1 - sps.f.cdf(delta_sample, (p - p0), (n - p))\n",
    "print(\"p_value = \", p_value[0, 0])\n",
    "\n",
    "if p_value > alpha:\n",
    "    print(\"Нет оснований отвергнуть H0 => Считаем, что разница RSS0 и RSS не существенна, поэтому можно отбросить этот коэф\")\n",
    "else:\n",
    "    print(\"Отвергаем H0 => Отбросить коэффициент нельзя\")\n"
   ]
  },
  {
   "cell_type": "markdown",
   "metadata": {},
   "source": [
    "Рассмотрим коэффициент детермиции и проверим значимость"
   ]
  },
  {
   "cell_type": "code",
   "execution_count": 43,
   "metadata": {},
   "outputs": [
    {
     "name": "stdout",
     "output_type": "stream",
     "text": [
      "R_2_del =  0.7596572663119152  R_2 =  0.7886398603933078\n",
      "delta_sample =  35.558155284611914\n",
      "p_value =  2.1194157540094238e-13\n",
      "Отвергаем H0 => Короткая регрессия значима\n"
     ]
    }
   ],
   "source": [
    "#Коэффициент детерминации\n",
    "R_2_del = (TSS - RSS0) / TSS\n",
    "print(\"R_2_del = \", R_2_del[0,0],\" R_2 = \", R_2[0,0]  )\n",
    "\n",
    "delta_sample_del = R_2_del / (1 - R_2_del) * (n - p0) / (p0 - 1)\n",
    "print(\"delta_sample = \", delta_sample_del[0, 0])\n",
    "\n",
    "p_value_del = 1 - sps.f.cdf(delta_sample_del, (p0 - 1), (n - p0))\n",
    "print(\"p_value = \", p_value_del[0, 0])\n",
    "\n",
    "if p_value_del > alpha:\n",
    "    print(\"Нет оснований отвергнуть H0 => Считаем, что короткая регрессия не значима\")\n",
    "else:\n",
    "    print(\"Отвергаем H0 => Короткая регрессия значима\")"
   ]
  },
  {
   "cell_type": "markdown",
   "metadata": {},
   "source": [
    "## k) Сравнить уравнения регрессии бутстрапом "
   ]
  },
  {
   "cell_type": "markdown",
   "metadata": {},
   "source": [
    "#### Смотрим следующее #\n",
    "H0: R_2 = R1_2 \\\n",
    "H1: R_2 != R1_2"
   ]
  },
  {
   "cell_type": "code",
   "execution_count": 44,
   "metadata": {},
   "outputs": [
    {
     "name": "stdout",
     "output_type": "stream",
     "text": [
      "[[0.02898259]]\n",
      "l =  475\n",
      "p_value =  0.475\n",
      "Нет оснований отвергнуть H0 => Считаем, что усложнение модели не может быть оправдано\n"
     ]
    }
   ],
   "source": [
    "arr_tran_main = Psi_tran.copy()\n",
    "Psi_size = Psi_tran[:,0].size\n",
    "arr_tran_main = np.append(arr_tran_main, Y)\n",
    "arr_tran_main = np.resize(arr_tran_main, (Psi_size + 1, n))\n",
    "my_delta = R_2 - R_2_del\n",
    "print(my_delta)\n",
    "\n",
    "#будет возвращать индексы векторов из arr_tran_boot\n",
    "def get_bootstrap(x, n_sample):\n",
    "    x_index = np.arange(0, x[0].size)\n",
    "    sample = np.random.choice(x_index, size = (x_index.size, n_sample), replace = True)\n",
    "    return sample\n",
    "\n",
    "N = 1000\n",
    "arr_sample_index = get_bootstrap(arr_tran_main, N)\n",
    "delta_boot = np.array([])\n",
    "\n",
    "for i in range(N):\n",
    "    #собираем массив из полученных индексов\n",
    "    arr_boot_i = np.array([arr_tran_main[:,j] for j in arr_sample_index[:,i]])\n",
    "    Psi_boot_i = arr_boot_i[:,:Psi_size].copy()\n",
    "    Y_boot_i = arr_boot_i[:, -1:].copy()\n",
    "    \n",
    "    F_boot_i = np.dot(Psi_boot_i.T, Psi_boot_i)\n",
    "    F_rever_boot_i = np.linalg.inv(F_boot_i)\n",
    "\n",
    "    betta_sample_boot_i = np.dot(np.dot(F_rever_boot_i, Psi_boot_i.T), Y_boot_i)\n",
    "    \n",
    "    RSS_boot_i = np.dot( (Y_boot_i - np.dot(Psi_boot_i, betta_sample_boot_i )).T, (Y_boot_i - np.dot(Psi_boot_i, betta_sample_boot_i )))\n",
    "    \n",
    "    y_mean_boot_i = np.mean(Y_boot_i)\n",
    "    TSS_boot_i = np.sum((Y_boot_i - y_mean_boot_i)**2)\n",
    "    \n",
    "    R_2_boot_i = (TSS_boot_i - RSS_boot_i) / TSS_boot_i\n",
    "    \n",
    "    \n",
    "    #упрощаем модель\n",
    "\n",
    "    Psi_del_boot_i = np.delete(Psi_boot_i, betta_unimportant_index, axis= 1)\n",
    "\n",
    "    F_del_boot_i = np.dot(Psi_del_boot_i.T, Psi_del_boot_i)\n",
    "    F_rever_del_boot_i = np.linalg.inv(F_del_boot_i)\n",
    "    \n",
    "    betta_sample_del_boot_i = np.dot(np.dot(F_rever_del_boot_i, Psi_del_boot_i.T), Y_boot_i)\n",
    "    \n",
    "    RSS0_boot_i = np.dot( (Y_boot_i - np.dot(Psi_del_boot_i, betta_sample_del_boot_i )).T, (Y_boot_i - np.dot(Psi_del_boot_i, betta_sample_del_boot_i )))\n",
    "    \n",
    "    R_2_del_boot_i = (TSS_boot_i - RSS0_boot_i) / TSS_boot_i\n",
    "\n",
    "    delta_boot = np.append(delta_boot, R_2_boot_i - R_2_del_boot_i)\n",
    "    \n",
    "delta_boot = np.sort(delta_boot) # вариационный ряд\n",
    "\n",
    "l = len([delta for delta in delta_boot if delta >= my_delta])\n",
    "print(\"l = \", l)\n",
    "p_value = l / N\n",
    "print(\"p_value = \", p_value)\n",
    "\n",
    "if p_value > alpha:\n",
    "    print(\"Нет оснований отвергнуть H0 => Считаем, что усложнение модели не может быть оправдано\")\n",
    "else:\n",
    "    print(\"Отвергаем H0 => Усложнение оправдано\")"
   ]
  },
  {
   "cell_type": "code",
   "execution_count": null,
   "metadata": {},
   "outputs": [],
   "source": []
  }
 ],
 "metadata": {
  "kernelspec": {
   "display_name": "Python 3",
   "language": "python",
   "name": "python3"
  },
  "language_info": {
   "codemirror_mode": {
    "name": "ipython",
    "version": 3
   },
   "file_extension": ".py",
   "mimetype": "text/x-python",
   "name": "python",
   "nbconvert_exporter": "python",
   "pygments_lexer": "ipython3",
   "version": "3.10.6"
  }
 },
 "nbformat": 4,
 "nbformat_minor": 2
}
