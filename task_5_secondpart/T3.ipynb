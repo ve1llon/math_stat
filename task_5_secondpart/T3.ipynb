{
 "cells": [
  {
   "cell_type": "code",
   "execution_count": 1,
   "metadata": {},
   "outputs": [],
   "source": [
    "import scipy.stats as sps\n",
    "import scipy.optimize as opt\n",
    "import numpy as np\n",
    "import matplotlib.pyplot as plt\n"
   ]
  },
  {
   "cell_type": "code",
   "execution_count": 2,
   "metadata": {},
   "outputs": [
    {
     "name": "stdout",
     "output_type": "stream",
     "text": [
      "[[1 0 1]\n",
      " [0 1 1]\n",
      " [1 5 2]]\n"
     ]
    }
   ],
   "source": [
    "# Исходные три значения случайного вектора\n",
    "my_vect = np.array([1, 0, 1, 0, 1, 5, 1, 1, 2]).reshape(3, 3).T\n",
    "print(my_vect)"
   ]
  },
  {
   "cell_type": "markdown",
   "metadata": {},
   "source": [
    "## а) Найти уравнение линейной регрессии \n",
    "## omega = a * ksi + b * eta"
   ]
  },
  {
   "cell_type": "code",
   "execution_count": 3,
   "metadata": {},
   "outputs": [
    {
     "name": "stdout",
     "output_type": "stream",
     "text": [
      "Psi_tran = \n",
      "[[1 0 1]\n",
      " [0 1 1]]\n",
      "Y = \n",
      "[[1]\n",
      " [5]\n",
      " [2]]\n",
      "a =  [-0.33333333] , b =  [3.66666667]\n",
      " \n",
      "Уравнение линейной регрессии: \n",
      "omega =  -0.333 * ksi +  3.667 * eta\n"
     ]
    }
   ],
   "source": [
    "\n",
    "Psi_tran = my_vect[:2,:].copy()\n",
    "print(\"Psi_tran = \")\n",
    "print(Psi_tran)\n",
    "\n",
    "Y = np.atleast_2d(my_vect[2]).T\n",
    "print(\"Y = \")\n",
    "print(Y)\n",
    "\n",
    "F = np.dot(Psi_tran, Psi_tran.T)\n",
    "F_rever = np.linalg.inv(F)\n",
    "\n",
    "betta_sample = np.dot(np.dot(F_rever, Psi_tran), Y)\n",
    "print(\"a = \", betta_sample[0], \", b = \", betta_sample[1])\n",
    "\n",
    "print(\" \")\n",
    "print(\"Уравнение линейной регрессии: \")\n",
    "print(\"omega = \",  np.round(betta_sample[0, 0], 3), \"* ksi + \", np.round(betta_sample[1, 0], 3), \"* eta\")"
   ]
  },
  {
   "cell_type": "markdown",
   "metadata": {},
   "source": [
    "## б) Найти уравнение ridge регрессии w = a * ksi + b * eta. Построить график CVSS и определить значение параметра регуляризации.\n"
   ]
  },
  {
   "cell_type": "code",
   "execution_count": 4,
   "metadata": {},
   "outputs": [
    {
     "name": "stdout",
     "output_type": "stream",
     "text": [
      "CVSS_MIN =  21.265098622222347\n",
      "lamb0 =  1.5\n"
     ]
    },
    {
     "data": {
      "image/png": "[encoded data removed]",
      "text/plain": [
       "<Figure size 640x480 with 1 Axes>"
      ]
     },
     "metadata": {},
     "output_type": "display_data"
    }
   ],
   "source": [
    "CVSS = np.array([])\n",
    "lamb = np.arange(0, 11, 0.1)\n",
    "\n",
    "CVSS_MIN = -1\n",
    "lamb0_ridge = 0\n",
    "\n",
    "def L(betta, Y_new, Psi_new, lamb_i):\n",
    "    return sum([(Y_new[i] - Psi_new[i, 0] * betta[0] - Psi_new[i, 1] * betta[1])**2 for i in range(2)]) + lamb_i * (betta[0]**2 + betta[1]**2)\n",
    "\n",
    "for lamb_i in lamb:\n",
    "    CVSS_i = np.array([])\n",
    "    for j in range(3):\n",
    "        match j:\n",
    "            case 0:\n",
    "                Y_new = my_vect[2, 1:]\n",
    "                Psi_new = my_vect[:2, 1:].T\n",
    "                \n",
    "                solution = opt.minimize(L, x0  = betta_sample[:,0], args = (Y_new, Psi_new, lamb_i))\n",
    "                CVSS_j = (np.dot(my_vect[:2, 0].T, solution.x) - my_vect[2, 0])**2\n",
    "                CVSS_i = np.append(CVSS_i, CVSS_j)\n",
    "            case 1:\n",
    "                Y_new = my_vect[2, :3:2]\n",
    "                Psi_new = my_vect[:2, :3:2].T\n",
    "                \n",
    "                solution = opt.minimize(L, x0  = betta_sample[:,0], args = (Y_new, Psi_new, lamb_i))\n",
    "                CVSS_j = (np.dot(my_vect[:2, 1].T, solution.x) - my_vect[2, 1])**2\n",
    "                CVSS_i = np.append(CVSS_i, CVSS_j)\n",
    "            case 2:\n",
    "                Y_new = my_vect[2, :2]\n",
    "                Psi_new = my_vect[:2, :2].T\n",
    "                \n",
    "                solution = opt.minimize(L, x0  = betta_sample[:,0], args = (Y_new, Psi_new, lamb_i))\n",
    "                CVSS_j = (np.dot(my_vect[:2, 2].T, solution.x) - my_vect[2, 2])**2\n",
    "                CVSS_i = np.append(CVSS_i, CVSS_j)\n",
    "                \n",
    "    CVSS = np.append(CVSS, sum(CVSS_i))\n",
    "    \n",
    "    if (CVSS_MIN != -1 and sum(CVSS_i) < CVSS_MIN) or (CVSS_MIN == -1):\n",
    "        CVSS_MIN = sum(CVSS_i)\n",
    "        lamb0_ridge = lamb_i\n",
    "        \n",
    "    \n",
    "plt.plot(lamb, CVSS)\n",
    "plt.scatter(lamb0_ridge, CVSS_MIN)\n",
    "print(\"CVSS_MIN = \", CVSS_MIN)\n",
    "print(\"lamb0 = \", lamb0_ridge)"
   ]
  },
  {
   "cell_type": "code",
   "execution_count": 5,
   "metadata": {},
   "outputs": [
    {
     "name": "stdout",
     "output_type": "stream",
     "text": [
      "Уравнение линейной регрессии: \n",
      "omega =  1.778 * ksi +  -0.0 * eta\n"
     ]
    }
   ],
   "source": [
    "def L(betta1, Y1, Psi1, lamb01):\n",
    "    return (sum((Y1 - np.dot(Psi1, betta1))**2) + lamb01 * sum(betta1**2))[0]\n",
    "\n",
    "solution_ridge = opt.minimize(L, x0  = betta_sample[:, 0], args = (Y, Psi_tran.T, lamb0_ridge))\n",
    "a_ridge = solution_ridge.x[0]\n",
    "b_ridge = solution_ridge.x[1]\n",
    "\n",
    "print(\"Уравнение линейной регрессии: \")\n",
    "print(\"omega = \",  np.round(a_ridge, 3), \"* ksi + \", np.round(b_ridge, 3), \"* eta\")\n",
    "\n"
   ]
  },
  {
   "cell_type": "markdown",
   "metadata": {},
   "source": [
    "## в) Найти уравнение lasso регрессии w = a * ksi + b * eta. Построить график CVSS и определить значение параметра регуляризации"
   ]
  },
  {
   "cell_type": "code",
   "execution_count": 9,
   "metadata": {},
   "outputs": [
    {
     "name": "stdout",
     "output_type": "stream",
     "text": [
      "CVSS_MIN =  26.0000000060788\n",
      "lamb0 =  6.0\n"
     ]
    },
    {
     "data": {
      "image/png": "[encoded data removed]",
      "text/plain": [
       "<Figure size 640x480 with 1 Axes>"
      ]
     },
     "metadata": {},
     "output_type": "display_data"
    }
   ],
   "source": [
    "CVSS = np.array([])\n",
    "lamb = np.arange(0, 11, 0.5)\n",
    "\n",
    "CVSS_MIN = -1\n",
    "lamb0_lasso = 0\n",
    "\n",
    "def L(betta, Y_new, Psi_new, lamb_i):\n",
    "    return sum([(Y_new[i] - Psi_new[i, 0] * betta[0] - Psi_new[i, 1] * betta[1])**2 for i in range(2)]) + lamb_i * (abs(betta[0]) + abs(betta[1]))\n",
    "\n",
    "for lamb_i in lamb:\n",
    "    CVSS_i = np.array([])\n",
    "    for j in range(3):\n",
    "        match j:\n",
    "            case 0:\n",
    "                Y_new = my_vect[2, 1:]\n",
    "                Psi_new = my_vect[:2, 1:].T\n",
    "                \n",
    "                solution = opt.minimize(L, x0  = betta_sample[:,0], args = (Y_new, Psi_new, lamb_i))\n",
    "                CVSS_j = (np.dot(my_vect[:2, 0].T, solution.x) - my_vect[2, 0])**2\n",
    "                CVSS_i = np.append(CVSS_i, CVSS_j)\n",
    "            case 1:\n",
    "                Y_new = my_vect[2, :3:2]\n",
    "                Psi_new = my_vect[:2, :3:2].T\n",
    "                \n",
    "                solution = opt.minimize(L, x0  = betta_sample[:,0], args = (Y_new, Psi_new, lamb_i))\n",
    "                CVSS_j = (np.dot(my_vect[:2, 1].T, solution.x) - my_vect[2, 1])**2\n",
    "                CVSS_i = np.append(CVSS_i, CVSS_j)\n",
    "            case 2:\n",
    "                Y_new = my_vect[2, :2]\n",
    "                Psi_new = my_vect[:2, :2].T\n",
    "                \n",
    "                solution = opt.minimize(L, x0  = betta_sample[:,0], args = (Y_new, Psi_new, lamb_i))\n",
    "                CVSS_j = (np.dot(my_vect[:2, 2].T, solution.x) - my_vect[2, 2])**2\n",
    "                CVSS_i = np.append(CVSS_i, CVSS_j)\n",
    "                \n",
    "    CVSS = np.append(CVSS, sum(CVSS_i))\n",
    "    \n",
    "    if (CVSS_MIN != -1 and sum(CVSS_i) < CVSS_MIN) or (CVSS_MIN == -1):\n",
    "        CVSS_MIN = sum(CVSS_i)\n",
    "        lamb0_lasso = lamb_i\n",
    "        \n",
    "    \n",
    "plt.plot(lamb, CVSS)\n",
    "plt.scatter(lamb0_lasso, CVSS_MIN)\n",
    "print(\"CVSS_MIN = \", CVSS_MIN)\n",
    "print(\"lamb0 = \", lamb0_lasso)"
   ]
  },
  {
   "cell_type": "code",
   "execution_count": 10,
   "metadata": {},
   "outputs": [
    {
     "name": "stdout",
     "output_type": "stream",
     "text": [
      "Уравнение линейной регрессии: \n",
      "omega =  1.019 * ksi +  -0.0 * eta\n"
     ]
    }
   ],
   "source": [
    "def L(betta1, Y1, Psi1, lamb01):\n",
    "    return (sum((Y1 - np.dot(Psi1, betta1))**2) + lamb01 * sum(abs(betta1)))[0]\n",
    "\n",
    "solution_lasso = opt.minimize(L, x0  = betta_sample[:, 0], args = (Y, Psi_tran.T, lamb0_lasso))\n",
    "a_lasso = solution_lasso.x[0]\n",
    "b_lasso = solution_lasso.x[1]\n",
    "\n",
    "print(\"Уравнение линейной регрессии: \")\n",
    "print(\"omega = \",  np.round(a_lasso, 3), \"* ksi + \", np.round(b_lasso, 3), \"* eta\")"
   ]
  },
  {
   "cell_type": "markdown",
   "metadata": {},
   "source": [
    "## Таким образом, оба метода дали одинаковый вывод: \n",
    "## Второй фактор eta можно исключить и уравнение примет вид \n",
    "## omega = a * ksi"
   ]
  }
 ],
 "metadata": {
  "kernelspec": {
   "display_name": "Python 3",
   "language": "python",
   "name": "python3"
  },
  "language_info": {
   "codemirror_mode": {
    "name": "ipython",
    "version": 3
   },
   "file_extension": ".py",
   "mimetype": "text/x-python",
   "name": "python",
   "nbconvert_exporter": "python",
   "pygments_lexer": "ipython3",
   "version": "3.10.6"
  }
 },
 "nbformat": 4,
 "nbformat_minor": 2
}
