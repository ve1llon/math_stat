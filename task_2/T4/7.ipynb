{
 "cells": [
  {
   "cell_type": "code",
   "execution_count": 46,
   "metadata": {},
   "outputs": [],
   "source": [
    "import scipy.stats as sps\n",
    "import numpy as np\n",
    "import matplotlib.pyplot as plt\n",
    "\n",
    "teta = 1\n",
    "betta = 0.95\n",
    "n = 100"
   ]
  },
  {
   "cell_type": "code",
   "execution_count": 47,
   "metadata": {},
   "outputs": [
    {
     "name": "stdout",
     "output_type": "stream",
     "text": [
      "[1.9279352  1.48856793 1.64756579 1.19474238 1.82654963 1.84158398\n",
      " 1.82596803 1.170256   1.53745536 1.00618999 1.08410932 1.91380755\n",
      " 1.81375875 1.23821894 1.94772309 1.161719   1.37692488 1.32204089\n",
      " 1.45099412 1.90180907 1.18575481 1.55292064 1.62454908 1.78701437\n",
      " 1.02624286 1.02309539 1.13202653 1.79106809 1.98808655 1.26844922\n",
      " 1.67501532 1.54217386 1.85902932 1.02843062 1.80988367 1.46133418\n",
      " 1.58605359 1.6425606  1.33023479 1.36581629 1.77675716 1.22388001\n",
      " 1.7996682  1.02716959 1.44406799 1.36858758 1.12993038 1.49146165\n",
      " 1.70106122 1.61711486 1.49025415 1.75040209 1.379984   1.89463634\n",
      " 1.30395499 1.13117041 1.53890295 1.08303331 1.93855339 1.43105841\n",
      " 1.38818238 1.48902307 1.08051997 1.77951097 1.53383697 1.41354811\n",
      " 1.66945716 1.79050909 1.82467827 1.31114313 1.87816958 1.24523333\n",
      " 1.53015678 1.15079136 1.63058898 1.6440457  1.95560708 1.96373569\n",
      " 1.76812252 1.38278268 1.19398687 1.11831528 1.09885179 1.53320489\n",
      " 1.89208774 1.19048756 1.40920288 1.96974425 1.30621408 1.09212073\n",
      " 1.59373079 1.64012613 1.90542213 1.99462708 1.47826589 1.11051815\n",
      " 1.53814431 1.77920126 1.08626089 1.08173936]\n"
     ]
    }
   ],
   "source": [
    "x_n = sps.uniform(loc = teta, scale = teta).rvs(size=n)\n",
    "print(x_n)"
   ]
  },
  {
   "cell_type": "code",
   "execution_count": 48,
   "metadata": {},
   "outputs": [
    {
     "name": "stdout",
     "output_type": "stream",
     "text": [
      "Доверительный интервал: ( 0.9974397878524467 ; 1.015706300338293 )\n",
      "Длина доверительного интервала 0.01826651248584621\n"
     ]
    }
   ],
   "source": [
    "# Точный доверительный интервал\n",
    "\n",
    "t1 = ((1 - betta) / 2) ** (1 / n)\n",
    "t2 = ((1 + betta) / 2) ** (1 / n)\n",
    "x_max = np.max(x_n)\n",
    "\n",
    "board1_acc = x_max / (t2 + 1) \n",
    "board2_acc = x_max / (t1 + 1)\n",
    "l = board2_acc - board1_acc\n",
    "print(\"Доверительный интервал: (\", board1_acc, \";\", board2_acc, \")\")\n",
    "print(\"Длина доверительного интервала\", l)"
   ]
  },
  {
   "cell_type": "code",
   "execution_count": 49,
   "metadata": {},
   "outputs": [
    {
     "name": "stdout",
     "output_type": "stream",
     "text": [
      "Доверительный интервал: ( 0.9636023247864924 ; 1.0406803847895765 )\n",
      "Длина доверительного интервала 0.07707806000308404\n"
     ]
    }
   ],
   "source": [
    "# Асимптотический доверительный интервал (через метод моментов)\n",
    "\n",
    "teta_omm = 2/3 * np.mean(x_n)\n",
    "t1 = sps.norm(loc = 0, scale = 1).ppf((1-betta)/2)\n",
    "t2 = sps.norm(loc = 0, scale = 1).ppf((1+betta)/2)\n",
    "alpha1 = np.mean(x_n)\n",
    "alpha2 = np.mean(x_n**2)\n",
    "\n",
    "board1_mm = teta_omm - 2/3 * (alpha2 - alpha1**2)**0.5 * t2 / n**0.5\n",
    "board2_mm = teta_omm - 2/3 * (alpha2 - alpha1**2)**0.5 * t1 / n**0.5\n",
    "l = board2_mm - board1_mm\n",
    "print(\"Доверительный интервал: (\", board1_mm, \";\", board2_mm, \")\")\n",
    "print(\"Длина доверительного интервала\", l)"
   ]
  },
  {
   "cell_type": "code",
   "execution_count": 50,
   "metadata": {},
   "outputs": [
    {
     "name": "stdout",
     "output_type": "stream",
     "text": [
      "Доверительный интервал: ( 0.963301927911164 ; 1.0405802885933069 )\n",
      "Длина доверительного интервала 0.07727836068214289\n"
     ]
    }
   ],
   "source": [
    "# Бутстраповский параметрический доверительный интервал (используется ОММ)\n",
    "\n",
    "def get_bootstrap(x, n_sample):\n",
    "    sample = np.random.choice(x, size = (x.size, n_sample), replace = True)\n",
    "    return sample\n",
    "\n",
    "N = 50000\n",
    "x_boot = get_bootstrap(x_n, N)\n",
    "x_boot_omm = np.sort(2/3 * np.mean(x_boot, axis = 0)) # вариац ряд\n",
    "k1 = int((1 - betta) * N / 2)\n",
    "k2 = int((1 + betta) * N / 2)\n",
    "\n",
    "board1_boot = x_boot_omm[k1]\n",
    "board2_boot = x_boot_omm[k2]\n",
    "l = board2_boot - board1_boot\n",
    "print(\"Доверительный интервал: (\", board1_boot, \";\", board2_boot, \")\")\n",
    "print(\"Длина доверительного интервала\", l)"
   ]
  },
  {
   "cell_type": "code",
   "execution_count": 51,
   "metadata": {},
   "outputs": [
    {
     "data": {
      "text/plain": [
       "<matplotlib.legend.Legend at 0x16abe28b730>"
      ]
     },
     "execution_count": 51,
     "metadata": {},
     "output_type": "execute_result"
    },
    {
     "data": {
      "image/png": "[encoded data removed]",
      "text/plain": [
       "<Figure size 640x480 with 1 Axes>"
      ]
     },
     "metadata": {},
     "output_type": "display_data"
    }
   ],
   "source": [
    "# Сравнение доверительных интервалов\n",
    "\n",
    "plt.xlim(teta*0.9, teta*1.1)\n",
    "plt.ylim(0, 3.5)\n",
    "\n",
    "plt.text(teta - 0.005, 3.1, round(board2_acc - board1_acc, 4))\n",
    "plt.plot([board1_acc, board2_acc], [3,3], color='r', label = \"Точный\")\n",
    "\n",
    "plt.text(teta - 0.005, 2.1, round(board2_mm - board1_mm, 4))\n",
    "plt.plot([board1_mm, board2_mm], [2,2], color='b', label = \"Асимпт-ий\")\n",
    "\n",
    "plt.text(teta - 0.005, 1.1, round(board2_boot - board1_boot, 4))\n",
    "plt.plot([board1_boot, board2_boot], [1,1], color='green', label = \"Бутст-ий\")\n",
    "plt.legend()"
   ]
  },
  {
   "cell_type": "code",
   "execution_count": null,
   "metadata": {},
   "outputs": [],
   "source": []
  }
 ],
 "metadata": {
  "kernelspec": {
   "display_name": "Python 3",
   "language": "python",
   "name": "python3"
  },
  "language_info": {
   "codemirror_mode": {
    "name": "ipython",
    "version": 3
   },
   "file_extension": ".py",
   "mimetype": "text/x-python",
   "name": "python",
   "nbconvert_exporter": "python",
   "pygments_lexer": "ipython3",
   "version": "3.10.6"
  }
 },
 "nbformat": 4,
 "nbformat_minor": 2
}
