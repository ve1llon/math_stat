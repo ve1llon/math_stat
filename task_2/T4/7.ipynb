{
 "cells": [
  {
   "cell_type": "code",
   "execution_count": 1,
   "metadata": {},
   "outputs": [],
   "source": [
    "import scipy.stats as sps\n",
    "import numpy as np\n",
    "import matplotlib.pyplot as plt\n",
    "\n",
    "teta = 1\n",
    "betta = 0.95\n",
    "n = 100"
   ]
  },
  {
   "cell_type": "code",
   "execution_count": 2,
   "metadata": {},
   "outputs": [
    {
     "name": "stdout",
     "output_type": "stream",
     "text": [
      "[1.24038368 1.14987793 1.82251343 1.21219132 1.59633392 1.11744053\n",
      " 1.98511229 1.05492999 1.64171319 1.98172751 1.77831997 1.80182347\n",
      " 1.66222901 1.66419985 1.6690103  1.19322279 1.91195553 1.95917242\n",
      " 1.97978164 1.88636946 1.94523549 1.04077996 1.9824296  1.03099622\n",
      " 1.69816174 1.83397506 1.49298378 1.20543058 1.00450399 1.59328662\n",
      " 1.21532547 1.22228798 1.21475778 1.63485907 1.89208248 1.00493369\n",
      " 1.81123914 1.60827484 1.09333633 1.817401   1.44499072 1.8720673\n",
      " 1.74505221 1.58144124 1.28968633 1.18946878 1.44377137 1.29315366\n",
      " 1.78095229 1.05415869 1.04611387 1.92912235 1.20318867 1.78316418\n",
      " 1.60320008 1.69477132 1.32543607 1.67278819 1.3974498  1.20460505\n",
      " 1.50104284 1.7952323  1.08389252 1.07096618 1.78187021 1.44715988\n",
      " 1.42785882 1.66372841 1.48190976 1.72490467 1.89536219 1.0612276\n",
      " 1.16646378 1.43523715 1.66847196 1.49010284 1.89776351 1.28579629\n",
      " 1.20931999 1.78430919 1.99656652 1.46617107 1.82870764 1.56081846\n",
      " 1.58088624 1.59898457 1.31151978 1.8612136  1.81863995 1.04522579\n",
      " 1.84524713 1.58954584 1.29677653 1.29570571 1.64952014 1.85577437\n",
      " 1.98808452 1.23385754 1.07863995 1.46763917]\n"
     ]
    }
   ],
   "source": [
    "x_n = sps.uniform(loc = teta, scale = teta).rvs(size=n)\n",
    "print(x_n)"
   ]
  },
  {
   "cell_type": "code",
   "execution_count": 3,
   "metadata": {},
   "outputs": [
    {
     "name": "stdout",
     "output_type": "stream",
     "text": [
      "Доверительный интервал: ( 0.9984096326900637 ; 1.0166939063310707 )\n",
      "Длина доверительного интервала 0.018284273641007043\n"
     ]
    }
   ],
   "source": [
    "# Точный доверительный интервал\n",
    "\n",
    "t1 = ((1 - betta) / 2) ** (1 / n)\n",
    "t2 = ((1 + betta) / 2) ** (1 / n)\n",
    "x_max = np.max(x_n)\n",
    "\n",
    "board1_acc = x_max / (t2 + 1) \n",
    "board2_acc = x_max / (t1 + 1)\n",
    "l = board2_acc - board1_acc\n",
    "print(\"Доверительный интервал: (\", board1_acc, \";\", board2_acc, \")\")\n",
    "print(\"Длина доверительного интервала\", l)"
   ]
  },
  {
   "cell_type": "code",
   "execution_count": 4,
   "metadata": {},
   "outputs": [
    {
     "name": "stdout",
     "output_type": "stream",
     "text": [
      "Доверительный интервал: ( 0.976567104193758 ; 1.0560637731843479 )\n",
      "Длина доверительного интервала 0.07949666899058982\n"
     ]
    }
   ],
   "source": [
    "# Асимптотический доверительный интервал (через метод моментов)\n",
    "\n",
    "teta_omm = 2/3 * np.mean(x_n)\n",
    "t1 = sps.norm(loc = 0, scale = 1).ppf((1-betta)/2)\n",
    "t2 = sps.norm(loc = 0, scale = 1).ppf((1+betta)/2)\n",
    "alpha1 = np.mean(x_n)\n",
    "alpha2 = np.mean(x_n**2)\n",
    "\n",
    "board1_mm = teta_omm - 2/3 * (alpha2 - alpha1**2)**0.5 * t2 / n**0.5\n",
    "board2_mm = teta_omm - 2/3 * (alpha2 - alpha1**2)**0.5 * t1 / n**0.5\n",
    "l = board2_mm - board1_mm\n",
    "print(\"Доверительный интервал: (\", board1_mm, \";\", board2_mm, \")\")\n",
    "print(\"Длина доверительного интервала\", l)"
   ]
  },
  {
   "cell_type": "code",
   "execution_count": 5,
   "metadata": {},
   "outputs": [
    {
     "name": "stdout",
     "output_type": "stream",
     "text": [
      "Доверительный интервал: ( 0.976799896346966 ; 1.055556360193945 )\n",
      "Длина доверительного интервала 0.0787564638469791\n"
     ]
    }
   ],
   "source": [
    "# Бутстраповский параметрический доверительный интервал (используется ОММ)\n",
    "\n",
    "def get_bootstrap(x, n_sample):\n",
    "    sample = np.random.choice(x, size = (x.size, n_sample), replace = True)\n",
    "    return sample\n",
    "\n",
    "N = 50000\n",
    "x_boot = get_bootstrap(x_n, N)\n",
    "x_boot_omm = np.sort(2/3 * np.mean(x_boot, axis = 0)) # вариац ряд\n",
    "k1 = int((1 - betta) * N / 2)\n",
    "k2 = int((1 + betta) * N / 2)\n",
    "\n",
    "board1_boot = x_boot_omm[k1]\n",
    "board2_boot = x_boot_omm[k2]\n",
    "l = board2_boot - board1_boot\n",
    "print(\"Доверительный интервал: (\", board1_boot, \";\", board2_boot, \")\")\n",
    "print(\"Длина доверительного интервала\", l)"
   ]
  },
  {
   "cell_type": "code",
   "execution_count": 6,
   "metadata": {},
   "outputs": [
    {
     "data": {
      "text/plain": [
       "<matplotlib.legend.Legend at 0x20212ad62f0>"
      ]
     },
     "execution_count": 6,
     "metadata": {},
     "output_type": "execute_result"
    },
    {
     "data": {
      "image/png": "[encoded data removed]",
      "text/plain": [
       "<Figure size 640x480 with 1 Axes>"
      ]
     },
     "metadata": {},
     "output_type": "display_data"
    }
   ],
   "source": [
    "# Сравнение доверительных интервалов\n",
    "\n",
    "plt.xlim(teta*0.9, teta*1.1)\n",
    "plt.ylim(0, 3.5)\n",
    "\n",
    "plt.text(teta - 0.005, 3.1, round(board2_acc - board1_acc, 4))\n",
    "plt.plot([board1_acc, board2_acc], [3,3], color='r', label = \"Точный\")\n",
    "\n",
    "plt.text(teta - 0.005, 2.1, round(board2_mm - board1_mm, 4))\n",
    "plt.plot([board1_mm, board2_mm], [2,2], color='b', label = \"Асимпт-ий\")\n",
    "\n",
    "plt.text(teta - 0.005, 1.1, round(board2_boot - board1_boot, 4))\n",
    "plt.plot([board1_boot, board2_boot], [1,1], color='green', label = \"Бутст-ий\")\n",
    "plt.legend()"
   ]
  },
  {
   "cell_type": "code",
   "execution_count": null,
   "metadata": {},
   "outputs": [],
   "source": []
  }
 ],
 "metadata": {
  "kernelspec": {
   "display_name": "Python 3",
   "language": "python",
   "name": "python3"
  },
  "language_info": {
   "codemirror_mode": {
    "name": "ipython",
    "version": 3
   },
   "file_extension": ".py",
   "mimetype": "text/x-python",
   "name": "python",
   "nbconvert_exporter": "python",
   "pygments_lexer": "ipython3",
   "version": "3.10.6"
  }
 },
 "nbformat": 4,
 "nbformat_minor": 2
}
