{
 "cells": [
  {
   "cell_type": "code",
   "execution_count": 99,
   "metadata": {},
   "outputs": [],
   "source": [
    "import scipy.stats as sps\n",
    "import numpy as np\n",
    "import matplotlib.pyplot as plt\n",
    "teta = 7\n",
    "betta = 0.95\n",
    "n = 100"
   ]
  },
  {
   "cell_type": "code",
   "execution_count": 100,
   "metadata": {},
   "outputs": [
    {
     "name": "stdout",
     "output_type": "stream",
     "text": [
      "[1.08537305 1.19123444 1.0512368  1.02565947 1.09804784 1.25689096\n",
      " 1.02790534 1.00277068 1.03910883 1.05959629 1.46514797 1.5287441\n",
      " 1.05852613 1.33221674 1.12368818 1.10622349 1.05705525 1.05501757\n",
      " 1.02825456 1.3284449  1.07698616 1.08973133 1.05371383 1.07592519\n",
      " 2.06412893 1.15544902 1.07957421 1.08271701 1.0988032  1.02932854\n",
      " 1.34461541 1.00137218 1.14260276 1.01491577 1.20066614 1.02207524\n",
      " 1.09052327 1.0353699  1.01360026 1.0458484  1.11860693 1.07681335\n",
      " 1.00760179 1.06031409 1.88036056 1.02122592 1.31865754 1.00824869\n",
      " 1.00457399 1.21238847 1.03963516 1.33495042 2.43302948 1.51121315\n",
      " 1.47780155 1.15016497 1.25329946 1.01248738 1.03797372 1.18429733\n",
      " 1.34704821 1.33415158 1.07309118 1.27919945 1.06443268 1.09144234\n",
      " 1.06992559 1.38527217 1.83217663 1.01059853 1.10194453 1.2550598\n",
      " 1.05408437 1.03203219 1.03912782 1.29852517 1.02447435 1.17158762\n",
      " 1.44474213 1.42128059 1.32875111 1.00337999 1.31379032 1.23136465\n",
      " 1.28499521 1.14535582 1.08564777 1.17930529 1.39842781 1.00396305\n",
      " 1.07366664 1.05986171 1.31667089 1.00494482 1.01527787 1.1049303\n",
      " 1.02256678 1.04302572 1.19667465 1.09672702]\n",
      "med =  1.0901273022395062\n"
     ]
    }
   ],
   "source": [
    "x_n = sps.pareto.rvs(b =teta-1, size = n)\n",
    "print(x_n)\n",
    "print(\"med = \", np.median(x_n))\n"
   ]
  },
  {
   "cell_type": "code",
   "execution_count": 101,
   "metadata": {},
   "outputs": [
    {
     "name": "stdout",
     "output_type": "stream",
     "text": [
      "Доверительный интервал: ( 1.087559814257968 ; 1.13311397096751 )\n",
      "Длина доверительного интервала 0.04555415670954188\n"
     ]
    }
   ],
   "source": [
    "# Асимптотический доверительный интервал для med (через ММП)\n",
    "\n",
    "teta_mmp = n/np.sum(np.log(x_n)) + 1\n",
    "t1 = sps.norm(loc = 0, scale = 1).ppf((1-betta)/2)\n",
    "t2 = sps.norm(loc = 0, scale = 1).ppf((1+betta)/2)\n",
    "\n",
    "board1 = 2**((teta_mmp - 1)**(-1)) - (np.log(2) * 2**((teta_mmp - 1)**(-1)) * t2) / (n**0.5 * (teta_mmp - 1)) \n",
    "board2 = 2**((teta_mmp - 1)**(-1)) - (np.log(2) * 2**((teta_mmp - 1)**(-1)) * t1) / (n**0.5 * (teta_mmp - 1))\n",
    "l = board2 - board1\n",
    "print(\"Доверительный интервал: (\", board1, \";\", board2, \")\")\n",
    "print(\"Длина доверительного интервала\", l)"
   ]
  },
  {
   "cell_type": "code",
   "execution_count": 102,
   "metadata": {},
   "outputs": [
    {
     "name": "stdout",
     "output_type": "stream",
     "text": [
      "Доверительный интервал: ( 6.324616094919966 ; 8.920638241457185 )\n",
      "Длина доверительного интервала 2.5960221465372193\n"
     ]
    }
   ],
   "source": [
    "# Асимптотический доверительный интервал для параметра teta (через ММП)\n",
    "\n",
    "teta_mmp = n/np.sum(np.log(x_n)) + 1\n",
    "t1 = sps.norm(loc = 0, scale = 1).ppf((1-betta)/2)\n",
    "t2 = sps.norm(loc = 0, scale = 1).ppf((1+betta)/2)\n",
    "\n",
    "board1_mmp = teta_mmp - ((teta_mmp - 1) * t2) / n**0.5\n",
    "board2_mmp = teta_mmp - ((teta_mmp - 1) * t1) / n**0.5\n",
    "l = board2_mmp - board1_mmp\n",
    "print(\"Доверительный интервал: (\", board1_mmp, \";\", board2_mmp, \")\")\n",
    "print(\"Длина доверительного интервала\", l)"
   ]
  },
  {
   "cell_type": "code",
   "execution_count": 103,
   "metadata": {},
   "outputs": [
    {
     "name": "stdout",
     "output_type": "stream",
     "text": [
      "Доверительный интервал: ( 6.428709472554331 ; 9.292641994994112 )\n",
      "Длина доверительного интервала 2.8639325224397805\n"
     ]
    }
   ],
   "source": [
    "# Бутстраповский параметрический доверительный интервал\n",
    "\n",
    "def get_bootstrap(x, n_sample):\n",
    "    sample = np.random.choice(x, size = (x.size, n_sample), replace = True)\n",
    "    return sample\n",
    "\n",
    "N = 50000\n",
    "x_boot = get_bootstrap(x_n, N)\n",
    "x_boot_omm = np.sort(n / np.sum(np.log(x_boot), axis = 0) + 1) # вариац ряд\n",
    "k1 = int((1 - betta) * N / 2)\n",
    "k2 = int((1 + betta) * N / 2)\n",
    "\n",
    "board1_boot_p = x_boot_omm[k1]\n",
    "board2_boot_p = x_boot_omm[k2]\n",
    "l = board2_boot_p - board1_boot_p\n",
    "print(\"Доверительный интервал: (\", board1_boot_p, \";\", board2_boot_p, \")\")\n",
    "print(\"Длина доверительного интервала\", l)"
   ]
  },
  {
   "cell_type": "code",
   "execution_count": 104,
   "metadata": {},
   "outputs": [
    {
     "name": "stdout",
     "output_type": "stream",
     "text": [
      "Доверительный интервал: ( 5.842736029143378 ; 8.784844594443516 )\n",
      "Длина доверительного интервала 2.9421085653001384\n"
     ]
    }
   ],
   "source": [
    "# Бутстраповский непараметрический доверительный интервал\n",
    "\n",
    "def get_bootstrap(x, n_sample):\n",
    "    sample = np.random.choice(x, size = (x.size, n_sample), replace = True)\n",
    "    return sample\n",
    "\n",
    "N = 1000\n",
    "x_boot = get_bootstrap(x_n, N)\n",
    "teta_mmp = n/np.sum(np.log(x_n)) + 1\n",
    "teta_boot = n / np.sum(np.log(x_boot), axis = 0) + 1\n",
    "\n",
    "delta = teta_boot - teta_mmp\n",
    "delta_sort = np.sort(delta) # вариац ряд\n",
    "k1 = int((1 - betta) * N / 2)\n",
    "k2 = int((1 + betta) * N / 2)\n",
    "\n",
    "board1_boot = teta_mmp - delta_sort[k2]\n",
    "board2_boot = teta_mmp - delta_sort[k1]\n",
    "l = board2_boot - board1_boot\n",
    "print(\"Доверительный интервал: (\", board1_boot, \";\", board2_boot, \")\")\n",
    "print(\"Длина доверительного интервала\", l)"
   ]
  },
  {
   "cell_type": "code",
   "execution_count": 105,
   "metadata": {},
   "outputs": [
    {
     "data": {
      "text/plain": [
       "<matplotlib.legend.Legend at 0x1c8d5e3fb50>"
      ]
     },
     "execution_count": 105,
     "metadata": {},
     "output_type": "execute_result"
    },
    {
     "data": {
      "image/png": "[encoded data removed]",
      "text/plain": [
       "<Figure size 640x480 with 1 Axes>"
      ]
     },
     "metadata": {},
     "output_type": "display_data"
    }
   ],
   "source": [
    "# Сравнение доверительных интервалов\n",
    "\n",
    "plt.xlim(teta*0.5, teta*1.5)\n",
    "plt.ylim(0, 3.5)\n",
    "\n",
    "plt.text(teta - 1, 3.1, round(board2_mmp - board1_mmp, 4))\n",
    "plt.plot([board1_mmp, board2_mmp], [3,3], color='r', label = \"Асимптотический\")\n",
    "\n",
    "plt.text(teta - 1, 2.1, round(board2_boot_p - board1_boot_p, 4))\n",
    "plt.plot([board1_boot_p, board2_boot_p], [2,2], color='b', label = \"Бутст-ий период.\")\n",
    "\n",
    "plt.text(teta - 1, 1.1, round(board2_boot - board1_boot, 4))\n",
    "plt.plot([board1_boot, board2_boot], [1,1], color='green', label = \"Бутст-ий непериод.\")\n",
    "\n",
    "plt.plot([teta, teta], [0.25,3.25], color='black', linestyle='--')\n",
    "plt.legend()"
   ]
  },
  {
   "cell_type": "code",
   "execution_count": null,
   "metadata": {},
   "outputs": [],
   "source": []
  }
 ],
 "metadata": {
  "kernelspec": {
   "display_name": "Python 3",
   "language": "python",
   "name": "python3"
  },
  "language_info": {
   "codemirror_mode": {
    "name": "ipython",
    "version": 3
   },
   "file_extension": ".py",
   "mimetype": "text/x-python",
   "name": "python",
   "nbconvert_exporter": "python",
   "pygments_lexer": "ipython3",
   "version": "3.10.6"
  }
 },
 "nbformat": 4,
 "nbformat_minor": 2
}
