{
 "cells": [
  {
   "cell_type": "code",
   "execution_count": 54,
   "metadata": {},
   "outputs": [],
   "source": [
    "import scipy.stats as sps\n",
    "import numpy as np\n",
    "import matplotlib.pyplot as plt\n",
    "teta = 7\n",
    "betta = 0.95\n",
    "n = 100"
   ]
  },
  {
   "cell_type": "code",
   "execution_count": 55,
   "metadata": {},
   "outputs": [
    {
     "name": "stdout",
     "output_type": "stream",
     "text": [
      "[1.01609528 1.0857453  1.01485233 1.11923673 1.1947736  1.13824597\n",
      " 1.00894583 1.09290409 1.09788564 1.01665899 1.02879217 1.1070338\n",
      " 1.00501291 1.11147516 1.08100816 1.04802513 1.27393517 1.05581479\n",
      " 1.46534187 1.67910802 1.15315539 1.27283829 1.05189036 1.10145607\n",
      " 1.05329377 1.0355584  1.21634488 1.09910714 1.06927025 1.03934959\n",
      " 1.00129072 1.08075122 1.1572346  1.00889025 1.3086479  1.29950284\n",
      " 1.29073441 1.10563479 1.17381779 1.02732817 1.31992672 1.32155718\n",
      " 1.01564037 1.34631562 1.01560088 2.30167896 1.00646474 1.51250585\n",
      " 1.33381641 1.00032581 1.15349074 1.01956422 1.17265857 1.06606705\n",
      " 1.02898761 1.00473656 1.20930735 1.05910361 1.50024945 2.34102157\n",
      " 1.03890039 1.27080034 1.05769211 1.06970016 1.36859786 1.12215036\n",
      " 1.29718273 1.34175239 1.23973828 1.21686235 1.39255645 1.09841951\n",
      " 1.06713875 1.01692973 1.48162366 1.36282273 1.01882633 1.01769575\n",
      " 1.03285893 1.39592802 1.71759587 1.0071664  1.09560281 1.08724633\n",
      " 1.00369012 1.01760523 1.42269085 1.06515774 1.02931264 1.07784601\n",
      " 1.00857059 1.0745601  1.20170892 1.24500711 1.20234874 1.05990373\n",
      " 1.06502947 1.27700085 1.07925318 1.05912955]\n",
      "med =  1.0942534504042947\n"
     ]
    }
   ],
   "source": [
    "x_n = sps.pareto.rvs(b =teta-1, size = n)\n",
    "print(x_n)\n",
    "print(\"med = \", np.median(x_n))\n"
   ]
  },
  {
   "cell_type": "code",
   "execution_count": 56,
   "metadata": {},
   "outputs": [
    {
     "name": "stdout",
     "output_type": "stream",
     "text": [
      "Доверительный интервал: ( 1.0858246990712432 ; 1.1304209954617606 )\n",
      "Длина доверительного интервала 0.04459629639051732\n"
     ]
    }
   ],
   "source": [
    "# Асимптотический доверительный интервал для med (через ММП)\n",
    "\n",
    "teta_mmp = n/np.sum(np.log(x_n)) + 1\n",
    "t1 = sps.norm(loc = 0, scale = 1).ppf((1-betta)/2)\n",
    "t2 = sps.norm(loc = 0, scale = 1).ppf((1+betta)/2)\n",
    "\n",
    "board1 = 2**((teta_mmp - 1)**(-1)) - (np.log(2) * 2**((teta_mmp - 1)**(-1)) * t2) / (n**0.5 * (teta_mmp - 1)) \n",
    "board2 = 2**((teta_mmp - 1)**(-1)) - (np.log(2) * 2**((teta_mmp - 1)**(-1)) * t1) / (n**0.5 * (teta_mmp - 1))\n",
    "l = board2 - board1\n",
    "print(\"Доверительный интервал: (\", board1, \";\", board2, \")\")\n",
    "print(\"Длина доверительного интервала\", l)"
   ]
  },
  {
   "cell_type": "code",
   "execution_count": 57,
   "metadata": {},
   "outputs": [
    {
     "name": "stdout",
     "output_type": "stream",
     "text": [
      "Доверительный интервал: ( 6.428135222451862 ; 9.074628227896525 )\n",
      "Длина доверительного интервала 2.646493005444663\n"
     ]
    }
   ],
   "source": [
    "# Асимптотический доверительный интервал для параметра teta (через ММП)\n",
    "\n",
    "teta_mmp = n/np.sum(np.log(x_n)) + 1\n",
    "t1 = sps.norm(loc = 0, scale = 1).ppf((1-betta)/2)\n",
    "t2 = sps.norm(loc = 0, scale = 1).ppf((1+betta)/2)\n",
    "\n",
    "board1_mmp = teta_mmp - ((teta_mmp - 1) * t2) / n**0.5\n",
    "board2_mmp = teta_mmp - ((teta_mmp - 1) * t1) / n**0.5\n",
    "l = board2_mmp - board1_mmp\n",
    "print(\"Доверительный интервал: (\", board1_mmp, \";\", board2_mmp, \")\")\n",
    "print(\"Длина доверительного интервала\", l)"
   ]
  },
  {
   "cell_type": "code",
   "execution_count": 58,
   "metadata": {},
   "outputs": [
    {
     "name": "stdout",
     "output_type": "stream",
     "text": [
      "Доверительный интервал: ( 6.600142376127049 ; 9.284121003236644 )\n",
      "Длина доверительного интервала 2.683978627109595\n"
     ]
    }
   ],
   "source": [
    "# Бутстраповский параметрический доверительный интервал\n",
    "\n",
    "def get_bootstrap(teta_cur, N_cur):\n",
    "    sample = np.array([sps.pareto.rvs(b =teta_cur-1, size = n) for i in range (N_cur)])\n",
    "    return sample\n",
    "\n",
    "teta_mmp = n/np.sum(np.log(x_n)) + 1\n",
    "N = 50000\n",
    "x_boot = get_bootstrap(teta_mmp, N)\n",
    "x_boot_omm = np.sort(n / np.sum(np.log(x_boot), axis = 1) + 1) # вариац ряд\n",
    "k1 = int((1 - betta) * N / 2)\n",
    "k2 = int((1 + betta) * N / 2)\n",
    "\n",
    "board1_boot_p = x_boot_omm[k1]\n",
    "board2_boot_p = x_boot_omm[k2]\n",
    "l = board2_boot_p - board1_boot_p\n",
    "print(\"Доверительный интервал: (\", board1_boot_p, \";\", board2_boot_p, \")\")\n",
    "print(\"Длина доверительного интервала\", l)"
   ]
  },
  {
   "cell_type": "code",
   "execution_count": 59,
   "metadata": {},
   "outputs": [
    {
     "name": "stdout",
     "output_type": "stream",
     "text": [
      "Доверительный интервал: ( 6.124633398190436 ; 9.021975498669072 )\n",
      "Длина доверительного интервала 2.8973421004786353\n"
     ]
    }
   ],
   "source": [
    "# Бутстраповский непараметрический доверительный интервал\n",
    "\n",
    "def get_bootstrap(x, n_sample):\n",
    "    sample = np.random.choice(x, size = (x.size, n_sample), replace = True)\n",
    "    return sample\n",
    "\n",
    "N = 1000\n",
    "x_boot = get_bootstrap(x_n, N)\n",
    "teta_mmp = n/np.sum(np.log(x_n)) + 1\n",
    "teta_boot = n / np.sum(np.log(x_boot), axis = 0) + 1\n",
    "\n",
    "delta = teta_boot - teta_mmp\n",
    "delta_sort = np.sort(delta) # вариац ряд\n",
    "k1 = int((1 - betta) * N / 2)\n",
    "k2 = int((1 + betta) * N / 2)\n",
    "\n",
    "board1_boot = teta_mmp - delta_sort[k2]\n",
    "board2_boot = teta_mmp - delta_sort[k1]\n",
    "l = board2_boot - board1_boot\n",
    "print(\"Доверительный интервал: (\", board1_boot, \";\", board2_boot, \")\")\n",
    "print(\"Длина доверительного интервала\", l)"
   ]
  },
  {
   "cell_type": "code",
   "execution_count": 60,
   "metadata": {},
   "outputs": [
    {
     "data": {
      "text/plain": [
       "<matplotlib.legend.Legend at 0x22327e18880>"
      ]
     },
     "execution_count": 60,
     "metadata": {},
     "output_type": "execute_result"
    },
    {
     "data": {
      "image/png": "[encoded data removed]",
      "text/plain": [
       "<Figure size 640x480 with 1 Axes>"
      ]
     },
     "metadata": {},
     "output_type": "display_data"
    }
   ],
   "source": [
    "# Сравнение доверительных интервалов\n",
    "\n",
    "plt.xlim(teta*0.5, teta*1.5)\n",
    "plt.ylim(0, 3.5)\n",
    "\n",
    "plt.text(teta - 1, 3.1, round(board2_mmp - board1_mmp, 4))\n",
    "plt.plot([board1_mmp, board2_mmp], [3,3], color='r', label = \"Асимптотический\")\n",
    "\n",
    "plt.text(teta - 1, 2.1, round(board2_boot_p - board1_boot_p, 4))\n",
    "plt.plot([board1_boot_p, board2_boot_p], [2,2], color='b', label = \"Бутст-ий период.\")\n",
    "\n",
    "plt.text(teta - 1, 1.1, round(board2_boot - board1_boot, 4))\n",
    "plt.plot([board1_boot, board2_boot], [1,1], color='green', label = \"Бутст-ий непериод.\")\n",
    "\n",
    "plt.plot([teta, teta], [0.25,3.25], color='black', linestyle='--')\n",
    "plt.legend()"
   ]
  },
  {
   "cell_type": "code",
   "execution_count": null,
   "metadata": {},
   "outputs": [],
   "source": []
  }
 ],
 "metadata": {
  "kernelspec": {
   "display_name": "Python 3",
   "language": "python",
   "name": "python3"
  },
  "language_info": {
   "codemirror_mode": {
    "name": "ipython",
    "version": 3
   },
   "file_extension": ".py",
   "mimetype": "text/x-python",
   "name": "python",
   "nbconvert_exporter": "python",
   "pygments_lexer": "ipython3",
   "version": "3.10.6"
  }
 },
 "nbformat": 4,
 "nbformat_minor": 2
}
