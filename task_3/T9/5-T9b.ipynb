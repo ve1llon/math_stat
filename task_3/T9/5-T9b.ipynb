{
 "cells": [
  {
   "cell_type": "code",
   "execution_count": 1,
   "metadata": {},
   "outputs": [],
   "source": [
    "import scipy.stats as sps\n",
    "import scipy.optimize as opt\n",
    "import scipy.integrate as integr\n",
    "import numpy as np\n",
    "import matplotlib.pyplot as plt"
   ]
  },
  {
   "cell_type": "markdown",
   "metadata": {},
   "source": [
    "# Критерий согласия Пирсона (для сложной гипотезы)"
   ]
  },
  {
   "cell_type": "code",
   "execution_count": 2,
   "metadata": {},
   "outputs": [],
   "source": [
    "# Константы задачи\n",
    "\n",
    "xn = np.array([0]*5 + [1]*8 + [2]*6 + [3]*12 + [4]*14 + [5]*18 + [6]*11 + [7]*6 + [8]*13 + [9]*7)\n",
    "n = xn.size\n",
    "sqrt_n = n ** 0.5\n",
    "\n",
    "m = np.array([5, 8, 6, 12, 14, 18, 11, 6, 13, 7])\n",
    "k = m.size\n",
    "s = 2"
   ]
  },
  {
   "cell_type": "code",
   "execution_count": 3,
   "metadata": {},
   "outputs": [],
   "source": [
    "# Функции для подсчета логарифма функции правдоподобия \n",
    "\n",
    "def get_norm_pdf(x_cur, teta1_cur, teta2_cur):\n",
    "    return sps.norm.pdf(x = x_cur, loc = teta1_cur, scale = teta2_cur)\n",
    "\n",
    "\n",
    "def optim_log(teta_cur, pairs_cur):\n",
    "    L = 1\n",
    "    for i in range(len(pairs_cur[0])):\n",
    "        integral_value = integr.quad(get_norm_pdf, pairs_cur[0][i], pairs_cur[1][i], args = (teta_cur[0], teta_cur[1]))\n",
    "        L *= integral_value[0]\n",
    "        \n",
    "    return -np.log(L)\n"
   ]
  },
  {
   "cell_type": "code",
   "execution_count": 4,
   "metadata": {},
   "outputs": [
    {
     "name": "stdout",
     "output_type": "stream",
     "text": [
      "/1/ 100\n",
      "-inf 1.0\n",
      "-inf 1.0\n",
      "-inf 1.0\n",
      "-inf 1.0\n",
      "-inf 1.0\n",
      "1.0 2.0\n",
      "1.0 2.0\n",
      "1.0 2.0\n",
      "1.0 2.0\n",
      "1.0 2.0\n",
      "...\n",
      "/2/ 0.0\n",
      "/3/ 0.09121121972586788\n",
      "/4/ my_teta1, my_teta2 :  5.2897 2.6795\n"
     ]
    }
   ],
   "source": [
    "# Образуем интервалы\n",
    "\n",
    "pairs = np.array([[[-np.inf]*5 + [1]*8 + [2]*6 + [3]*12 + [4]*14 + [5]*18 + [6]*11 + [7]*6 + [8]*13 + [9]*7] , \n",
    "                  [[1]*5 + [2]*8 + [3]*6 + [4]*12 + [5]*14 + [6]*18 + [7]*11 + [8]*6 + [9]*13 + [np.inf]*7]])\n",
    "pairs = np.squeeze(pairs, axis=1)\n",
    "\n",
    "print(\"/1/\", n)\n",
    "for i in range(len(pairs[0])//10):\n",
    "    print(pairs[0][i], pairs[1][i])\n",
    "print(\"...\")\n",
    "\n",
    "print(\"/2/\", get_norm_pdf(-np.inf, 4, 3))\n",
    "print(\"/3/\", integr.quad(get_norm_pdf, -np.inf, 0, args = (4, 3))[0])\n",
    "    \n",
    "# Максимизируем логарифм (в данном случае, минимализируем -lnL)\n",
    "\n",
    "optima = opt.minimize(fun = optim_log,  x0 = [5, 2], args = (pairs,)) # из графика выборки возьмем 5, 2*sigma (95%) = 4\n",
    "\n",
    "my_teta1 = round(optima.x[0], 4)\n",
    "my_teta2 = round(optima.x[1], 4)\n",
    "print(\"/4/\", \"my_teta1, my_teta2 : \",my_teta1, my_teta2)"
   ]
  },
  {
   "cell_type": "code",
   "execution_count": 5,
   "metadata": {},
   "outputs": [
    {
     "name": "stdout",
     "output_type": "stream",
     "text": [
      "/5/ [ 5.47   5.508  8.663 11.874 14.181 14.758 13.383 10.575  7.282  8.307]\n",
      "/6/ MY_DELTA =  9.801418398650844\n"
     ]
    }
   ],
   "source": [
    "# Посчитаем n*pi:\n",
    "\n",
    "my_p_full = np.array([integr.quad(get_norm_pdf, pairs[0][i], pairs[1][i], args = (my_teta1, my_teta2))[0] for i in range(n)])\n",
    "my_np_full = my_p_full * n\n",
    "\n",
    "my_np_res = np.delete(my_np_full, np.where(np.diff(my_np_full) == 0)[0] + 1)\n",
    "my_np_res = np.round(my_np_res, 3) #убрал повторки соотвествующие одному mi и немного округлил\n",
    "print(\"/5/\", my_np_res)\n",
    "\n",
    "# Посчитаем ~delta\n",
    "\n",
    "my_delta = np.sum((m - my_np_res)**2 / my_np_res)\n",
    "print(\"/6/\", \"MY_DELTA = \", my_delta)"
   ]
  },
  {
   "cell_type": "code",
   "execution_count": 6,
   "metadata": {},
   "outputs": [
    {
     "name": "stdout",
     "output_type": "stream",
     "text": [
      "p-value 0.20010899336247512\n"
     ]
    }
   ],
   "source": [
    "# Посчитаем p-value\n",
    "\n",
    "p_value = 1 - sps.chi2.cdf(my_delta, k - 1 - s)\n",
    "print(\"p-value\", p_value)"
   ]
  },
  {
   "cell_type": "markdown",
   "metadata": {},
   "source": [
    "## p-value > alpha, где alpha = 0.05 - задали заранее. Как итог, нет оснований отвергать Ho."
   ]
  },
  {
   "cell_type": "markdown",
   "metadata": {},
   "source": [
    "# Критерий согласия Колмогорова (для сложной гипотезы)"
   ]
  },
  {
   "cell_type": "code",
   "execution_count": 7,
   "metadata": {},
   "outputs": [],
   "source": [
    "# Эмпирическая функция распределения по выборке\n",
    "\n",
    "def emp_func(sample_cur, n_cur):\n",
    "    # Получаем точки - пары x и y координат \n",
    "    xy_pairs = np.vstack(( np.sort(sample_cur), np.arange(0, n_cur) / n_cur )).T\n",
    "    uniq_elem = xy_pairs[0]\n",
    "    for pair_cur in xy_pairs:\n",
    "        if pair_cur[0] == uniq_elem[0]:\n",
    "            pair_cur[1] = uniq_elem[1]\n",
    "        else:\n",
    "            uniq_elem = pair_cur\n",
    "    return xy_pairs"
   ]
  },
  {
   "cell_type": "code",
   "execution_count": 8,
   "metadata": {},
   "outputs": [],
   "source": [
    "# Функция распределения нормального закона\n",
    "\n",
    "def norm_func(sample_cur, teta1_cur, teta2_cur):\n",
    "    x1 = np.sort(sample_cur)\n",
    "    y1 = sps.norm.cdf(x = x1, loc = teta1_cur, scale = teta2_cur)\n",
    "    return np.vstack((x1, y1)).T"
   ]
  },
  {
   "cell_type": "code",
   "execution_count": 9,
   "metadata": {},
   "outputs": [],
   "source": [
    "# Константы задачи\n",
    "\n",
    "xn = np.array([0]*5 + [1]*8 + [2]*6 + [3]*12 + [4]*14 + [5]*18 + [6]*11 + [7]*6 + [8]*13 + [9]*7)\n",
    "n = xn.size\n",
    "sqrt_n = n ** 0.5"
   ]
  },
  {
   "cell_type": "code",
   "execution_count": 10,
   "metadata": {},
   "outputs": [
    {
     "name": "stdout",
     "output_type": "stream",
     "text": [
      "/1/ 100 4.77 2.505414137423193\n",
      "/2/ (100, 2)\n",
      "/3/ [[0.   0.  ]\n",
      " [0.   0.  ]\n",
      " [0.   0.  ]\n",
      " [0.   0.  ]\n",
      " [0.   0.  ]\n",
      " [1.   0.05]\n",
      " [1.   0.05]\n",
      " [1.   0.05]\n",
      " [1.   0.05]\n",
      " [1.   0.05]]\n",
      "/4/ (100, 2)\n",
      "/5/ [[0.         0.02846311]\n",
      " [0.         0.02846311]\n",
      " [0.         0.02846311]\n",
      " [0.         0.02846311]\n",
      " [0.         0.02846311]\n",
      " [1.         0.06619531]\n",
      " [1.         0.06619531]\n",
      " [1.         0.06619531]\n",
      " [1.         0.06619531]\n",
      " [1.         0.06619531]]\n",
      "/6/ [0.02846311 0.02846311 0.02846311 0.02846311 0.02846311 0.01619531\n",
      " 0.01619531 0.01619531 0.01619531 0.01619531] [0.02846311 0.02846311 0.02846311 0.02846311 0.02153689 0.01619531\n",
      " 0.01619531 0.01619531 0.01619531 0.01619531] 0.045672642243731576\n",
      "/7/ MY_DELTA =  1.013371112422481\n"
     ]
    }
   ],
   "source": [
    "# Получаем из исходной выборки\n",
    "\n",
    "my_teta1 = np.mean(xn)\n",
    "my_teta2 = np.std(xn)\n",
    "print(\"/1/\", n, my_teta1, my_teta2)\n",
    "\n",
    "my_empf = emp_func(xn, n) # ~Fn(x)\n",
    "print(\"/2/\", my_empf.shape)\n",
    "print(\"/3/\", my_empf[:10])\n",
    "\n",
    "my_normf = norm_func(xn, my_teta1, my_teta2) # F(x, vector my_teta)\n",
    "print(\"/4/\", my_normf.shape)\n",
    "print(\"/5/\", my_normf[:10])\n",
    "\n",
    "my_delta = sqrt_n * max(np.max(np.abs(my_empf[:, 1] - my_normf[:, 1])), np.max(np.abs(my_empf[1:, 1] - my_normf[:-1, 1])), np.abs(1 - my_normf[-1, 1])) # ~delta\n",
    "print(\"/6/\", np.abs(my_empf[:, 1] - my_normf[:, 1])[:10], np.abs(my_empf[1:, 1] - my_normf[:-1, 1])[:10], np.abs(1 - my_normf[-1, 1]))\n",
    "print(\"/7/\", \"MY_DELTA = \", my_delta)\n"
   ]
  },
  {
   "cell_type": "code",
   "execution_count": 11,
   "metadata": {},
   "outputs": [
    {
     "name": "stdout",
     "output_type": "stream",
     "text": [
      "/8/ (50000, 100)\n",
      "/9/ (50000,)\n",
      "/10/ [4.92 4.43 4.56 4.71 4.59]\n",
      "/11/ [2.25246532 2.47893122 2.53897617 2.29910852 2.23201703]\n",
      "/12/ (50000, 100, 2)\n",
      "/13/ [[0.   0.  ]\n",
      " [0.   0.  ]\n",
      " [0.   0.  ]\n",
      " [0.   0.  ]\n",
      " [1.   0.04]\n",
      " [1.   0.04]\n",
      " [1.   0.04]\n",
      " [1.   0.04]\n",
      " [1.   0.04]\n",
      " [2.   0.09]]\n",
      "/14/ (50000,)\n",
      "/15/ 43396\n",
      "/16/ 0.86792\n"
     ]
    }
   ],
   "source": [
    "# Воспользуемся параметрическим bootstapом\n",
    "\n",
    "N = 50000\n",
    "x_boot = np.array([(np.round(sps.norm.rvs(size = n, loc = my_teta1, scale = my_teta2)))%10 for i in range (N)])\n",
    "print(\"/8/\", x_boot.shape)\n",
    "\n",
    "teta1_boot = np.mean(x_boot, axis=1)\n",
    "teta2_boot = np.std(x_boot, axis=1)\n",
    "print(\"/9/\", teta1_boot.shape)\n",
    "print(\"/10/\", teta1_boot[:5])\n",
    "print(\"/11/\", teta2_boot[:5])\n",
    "\n",
    "empf_boot = np.apply_along_axis(func1d = emp_func, axis = 1, arr = x_boot, n_cur = n) \n",
    "print(\"/12/\", empf_boot.shape)\n",
    "print(\"/13/\", empf_boot[0][:10])\n",
    "\n",
    "\n",
    "delta_boot = np.array([])\n",
    "for i in range(N):\n",
    "    empf_boot_cur = empf_boot[i] # ~F*n(x)\n",
    "    normf_boot_cur = norm_func(x_boot[i], teta1_boot[i], teta2_boot[i]) # F(x, vector teta*)\n",
    "    delta_boot_cur = sqrt_n * max(np.max(np.abs(empf_boot_cur[:, 1] - normf_boot_cur[:, 1])), \n",
    "                                  np.max(np.abs(empf_boot_cur[1:, 1] - normf_boot_cur[:-1, 1])), \n",
    "                                  np.abs(1 - normf_boot_cur[-1, 1])) # *delta\n",
    "    delta_boot = np.append(delta_boot, delta_boot_cur)\n",
    "\n",
    "\n",
    "\n",
    "delta_boot = np.sort(delta_boot) # вариационный ряд\n",
    "print(\"/14/\", delta_boot.shape)\n",
    "\n",
    "l = len([delta for delta in delta_boot if delta >= my_delta])\n",
    "print(\"/15/\", l)\n",
    "\n",
    "p_value = l / N\n",
    "print(\"/16/\", p_value)\n",
    "\n",
    "\n"
   ]
  },
  {
   "cell_type": "code",
   "execution_count": 12,
   "metadata": {},
   "outputs": [
    {
     "name": "stdout",
     "output_type": "stream",
     "text": [
      "p-value =  0.86792\n"
     ]
    }
   ],
   "source": [
    "print(\"p-value = \", p_value)"
   ]
  },
  {
   "cell_type": "markdown",
   "metadata": {},
   "source": [
    "## p-value > alpha, где alpha = 0.05 - задали заранее. \n",
    "## Тогда, как итог, нет оснований отвергнуть гипотезу H0"
   ]
  },
  {
   "cell_type": "code",
   "execution_count": null,
   "metadata": {},
   "outputs": [],
   "source": []
  },
  {
   "cell_type": "code",
   "execution_count": null,
   "metadata": {},
   "outputs": [],
   "source": []
  },
  {
   "cell_type": "code",
   "execution_count": null,
   "metadata": {},
   "outputs": [],
   "source": [
    "#Пункт а  - КОЛМОГОРОВ \n",
    "xn = xn = np.array([0]*5 + [1]*8 + [2]*6 + [3]*12 + [4]*14 + [5]*18 + [6]*11 + [7]*6 + [8]*13 + [9]*7)\n",
    "n = xn.size\n",
    "\n",
    "emp_func_sample = np.array([]) # он будет содержать значения на полуинтервалах, а не только в точках\n",
    "for i in range(n):\n",
    "    emp_func_s_i = sum(1 for j in xn if j < xn[i]) / n\n",
    "    emp_func_sample = np.append(emp_func_sample, emp_func_s_i)\n",
    "emp_func_sample = np.append(emp_func_sample, 1)\n",
    "emp_func_sample = np.array([*set(emp_func_sample)]) #убрал дубликаты\n",
    "emp_func_sample = np.sort(emp_func_sample) #отсортировал\n",
    "\n",
    "emp_func = np.array([]) # он будет содержать значения только в точках\n",
    "for i in range(n):\n",
    "    emp_func_i = sps.uniform.cdf(xn[i], 0, 9)\n",
    "    emp_func = np.append(emp_func, emp_func_i)\n",
    "emp_func = np.array([*set(emp_func)]) #убрал дубликаты\n",
    "emp_func = np.sort(emp_func)\n",
    "\n",
    "diff_emp_func = np.array([])\n",
    "for i in range(len(emp_func)):\n",
    "    diff_emp_func_i = max( np.abs(emp_func_sample[i] - emp_func[i]), np.abs(emp_func_sample[i+1] - emp_func[i]))\n",
    "    diff_emp_func = np.append(diff_emp_func, diff_emp_func_i)\n",
    "\n",
    "delta_sample = np.sqrt(n) * np.max(diff_emp_func)\n",
    "print(delta_sample)\n"
   ]
  }
 ],
 "metadata": {
  "kernelspec": {
   "display_name": "Python 3",
   "language": "python",
   "name": "python3"
  },
  "language_info": {
   "codemirror_mode": {
    "name": "ipython",
    "version": 3
   },
   "file_extension": ".py",
   "mimetype": "text/x-python",
   "name": "python",
   "nbconvert_exporter": "python",
   "pygments_lexer": "ipython3",
   "version": "3.10.6"
  }
 },
 "nbformat": 4,
 "nbformat_minor": 2
}
